{
  "nbformat": 4,
  "nbformat_minor": 0,
  "metadata": {
    "colab": {
      "name": "Yoda Model5 - GLOVE Sliding window bidirectional with return seq.ipynb",
      "provenance": [],
      "collapsed_sections": [],
      "mount_file_id": "1Y0eLRfCrUBgUry79d0Tu3owhL0GYOzj6",
      "authorship_tag": "ABX9TyMnkc9XukDmqXSLj21iQl81",
      "include_colab_link": true
    },
    "kernelspec": {
      "display_name": "Python 3",
      "name": "python3"
    },
    "language_info": {
      "name": "python"
    }
  },
  "cells": [
    {
      "cell_type": "markdown",
      "metadata": {
        "id": "view-in-github",
        "colab_type": "text"
      },
      "source": [
        "<a href=\"https://colab.research.google.com/github/keshvi-srivastava/A-star/blob/master/Yoda_Model5_GLOVE_Sliding_window_bidirectional_with_return_seq.ipynb\" target=\"_parent\"><img src=\"https://colab.research.google.com/assets/colab-badge.svg\" alt=\"Open In Colab\"/></a>"
      ]
    },
    {
      "cell_type": "markdown",
      "metadata": {
        "id": "fOwD6fD1QK9e"
      },
      "source": [
        "Model to generate a sequence of following words:\n",
        "1. Convert the data into token list\n",
        "2. Convert data to token sentences with sliding windows\n",
        "3. Encode the sentence\n",
        "4. Simple LSTM model\n",
        "5. Create a bidirectional model\n",
        "6. Add Glove word embeddings\n",
        "\n",
        "- Makes sentences sequence from the whole token list\n",
        "- Make a sliding window of size 5 each\n",
        "\n",
        "Reference:\n",
        "\n",
        "https://medium.com/@plusepsilon/the-bidirectional-language-model-1f3961d1fb27"
      ]
    },
    {
      "cell_type": "code",
      "metadata": {
        "id": "xnbgH6RRPp2j"
      },
      "source": [
        "import tensorflow as tf\n",
        "import numpy as np\n",
        "import os\n",
        "import time\n",
        "import pandas as pd\n",
        "import re\n",
        "from numpy import array\n",
        "from pickle import dump\n",
        "import string\n",
        "from random import randint\n",
        "from pickle import load\n",
        "from tensorflow.keras.layers.experimental import preprocessing\n",
        "\n",
        "#import other libraries\n",
        "import numpy as np\n",
        "import random\n",
        "import sys\n",
        "import os\n",
        "import time\n",
        "import codecs\n",
        "import collections\n",
        "from six.moves import cPickle\n",
        "\n",
        "from keras.models import Sequential\n",
        "from keras.models import load_model\n",
        "from keras.layers import Dense\n",
        "from keras.layers import Dropout\n",
        "from keras.layers import LSTM\n",
        "from keras.layers import GRU\n",
        "from keras.layers import TimeDistributed\n",
        "from keras.layers import Embedding\n",
        "from keras.layers import GlobalMaxPool1D\n",
        "from keras.callbacks import ModelCheckpoint\n",
        "from keras.utils import np_utils\n",
        "from keras.utils import to_categorical\n",
        "from keras.preprocessing.text import Tokenizer\n",
        "from keras.preprocessing.sequence import pad_sequences\n",
        "\n",
        "\n",
        "from __future__ import print_function\n",
        "from keras.layers import Dense, Activation, Dropout\n",
        "from keras.layers import LSTM, Input, Bidirectional\n",
        "from keras.optimizers import Adam\n",
        "from keras.callbacks import EarlyStopping\n",
        "from keras.metrics import categorical_accuracy\n",
        "\n",
        "#import spacy, and spacy french model\n",
        "# spacy is used to work on text\n"
      ],
      "execution_count": 2,
      "outputs": []
    },
    {
      "cell_type": "code",
      "metadata": {
        "colab": {
          "base_uri": "https://localhost:8080/"
        },
        "id": "s3jGwvagQbN-",
        "outputId": "6906bac0-f5f8-43a2-94fa-f78cff475710"
      },
      "source": [
        "path_to_file = '/content/drive/MyDrive/SNLP Project/Filtered_Data/'\n",
        "\n",
        "data = pd.DataFrame(columns = ['character', 'dialogue'])\n",
        "\n",
        "for file in os.listdir(path_to_file):\n",
        "    print(file)\n",
        "    df = pd.read_csv(path_to_file+file)\n",
        "    data = data.append(df, ignore_index=True)\n",
        "\n",
        "data['character'] = data[\"character\"].str.lower()\n",
        "\n",
        "data['character'] = data.character.replace(\"anakin\", \"vader\", regex=True)\n",
        "data['character'] = data.character.replace(\"obi-wan\", \"ben\", regex=True)\n",
        "data['character'] = data.character.replace(\"c-3po\", \"threepio\", regex=True)\n",
        "\n",
        "unique_characters = data.character.unique()\n",
        "\n",
        "data_dict = data.groupby('character')['dialogue'].apply(lambda g: g.values.tolist()).to_dict()"
      ],
      "execution_count": 3,
      "outputs": [
        {
          "output_type": "stream",
          "text": [
            "SW_EpisodeI.csv\n",
            "SW_EpisodeII.csv\n",
            "SW_EpisodeIII.csv\n",
            "SW_EpisodeIV.csv\n",
            "SW_EpisodeV.csv\n",
            "SW_EpisodeVI.csv\n"
          ],
          "name": "stdout"
        }
      ]
    },
    {
      "cell_type": "code",
      "metadata": {
        "id": "m3kG6NMrWAOe"
      },
      "source": [
        "def preprocess_text(sen):\n",
        "\n",
        "    # Remove numbers\n",
        "    sentence = re.sub(\" \\d+\", \" \", sen)\n",
        "\n",
        "    # # Single character removal\n",
        "    # sentence = re.sub(r\"\\s+[a-zA-Z]\\s+\", ' ', sen)\n",
        "\n",
        "    # Removing multiple spaces\n",
        "    sentence = re.sub(r'\\s+', ' ', sentence)\n",
        "\n",
        "    # Remove ....\n",
        "    sentence = re.sub('\\.+', ' ', sentence)\n",
        "\n",
        "    # Remove punctuations\n",
        "    sentence = re.sub('[%s]' % re.escape(string.punctuation), '', sentence)\n",
        "\n",
        "    # Lower case\n",
        "    sentence = sentence.lower()\n",
        "\n",
        "    # Return a list of tokens (words)\n",
        "    sentence = sentence.split()\n",
        "\n",
        "    return sentence"
      ],
      "execution_count": 4,
      "outputs": []
    },
    {
      "cell_type": "code",
      "metadata": {
        "colab": {
          "base_uri": "https://localhost:8080/"
        },
        "id": "YK88fyrAWITM",
        "outputId": "3a3bc0c8-06e3-4c55-9ff3-42c1fb651794"
      },
      "source": [
        "obi_wan_tokens = [preprocess_text(row) for row in data_dict['yoda']]\n",
        "print(obi_wan_tokens[:5])\n",
        "\n",
        "obi_wan_data = [' '.join(row) for row in obi_wan_tokens]\n",
        "print(obi_wan_data)\n",
        "\n",
        "obi_wan_token_list = [item for sublist in obi_wan_tokens for item in sublist]\n",
        "print(obi_wan_token_list)\n",
        "\n",
        "print(\"Total # of tokens(words)\")\n",
        "print(len(obi_wan_token_list))\n",
        "\n",
        "print(\"Total # of unique tokens(words)\")\n",
        "print(len(set(obi_wan_token_list)))"
      ],
      "execution_count": 5,
      "outputs": [
        {
          "output_type": "stream",
          "text": [
            "[['the', 'very', 'republic', 'is', 'threatened', 'if', 'involved', 'the', 'sith', 'are'], ['hard', 'to', 'see', 'the', 'dark', 'side', 'is', 'discover', 'who', 'this', 'assassin', 'is', 'we'], ['with', 'this', 'naboo', 'queen', 'you', 'must', 'stay', 'quigon', 'protect', 'her'], ['may', 'the', 'force', 'be', 'with', 'you'], ['contd', 'master', 'quigon', 'more', 'to', 'say', 'have', 'you']]\n",
            "['the very republic is threatened if involved the sith are', 'hard to see the dark side is discover who this assassin is we', 'with this naboo queen you must stay quigon protect her', 'may the force be with you', 'contd master quigon more to say have you', 'a vergence you say', 'but you do rrevealed your opinion is', 'trained as a jedi you request for him', 'tested he will be', 'good good young one how feel you', 'afraid are you', 'see through you we can', 'afraid to lose her i think', 'eveything fear is the path to the dark side fear leads to', 'a jedi must have the deepest commitment the most serious mind i', 'then continue we will', 'correct you were quigon', 'clouded this boys future is masked by his youth', 'an apprentice you have quigon impossible to take on a second', 'ready so early are you what know you of ready', 'our own council we will keep on who is ready more to learn he', 'and draw out the queens attacker', 'young skywalkers fate will be decided later', 'train him not take him with you but train him not', 'may the force be with you', 'confer on you the level of jedi knight the coucil does but agree', 'the chosen one the boy may be nevertheless grave danger i fear in', 'quigons defiance i sense in you need that you do not agree the', 'always two there are no more no less a maste and an', 'worse than war i fear muchworse', 'impossible to see the dark sideclouds everything but this i amsure of opens his eyesdo their duty the jedi will', 'with you the force is strong young senator to see you alivebrings warm feeling to my heart', 'in dark times nothing is what itappears to be but the fact remainssenator in grave danger you are', 'too little about yourself youworry senator and too much aboutpolitics be mindful of yourdanger padmé accept our help', 'masking the future is thisdisturbance in the force', 'and only those who have turned tothe dark side can sense thepossibilities of the future onlygoing through the dark side can wesee', 'out there they are acertainty that is', 'only if he chooses to follow hisdestiny', 'dont think feel be as onewith the force help you it will he sees obiwanyounglings enough a visitor wehave welcome him', 'continuingmaster obiwan kenobi meet themighty bear clan', 'what help to you can i be', 'an interesting puzzle gatherround the map reader younglings master obiwan has lost a planet find it we will try', 'most interesting gravity\\x92ssilhouette remains but the starand all its planets havedisappeared how can this be', 'truly wonderful the mind of achild is uncluttered to thecentre of the pull of gravity goand find your planet you will', 'frowningmuch harder to answer thatquestion is', 'the council is confident in this decisionobiwan', 'who he is working for discoverthat you must', 'inform the chancellor of this wemust', 'with the forename darth a sith hemust be', 'perhaps too many pieces are missingfrom this puzzle there are', 'two hundred less or more', 'agreed master windu two hundredjedi send enough lets hopethey are', 'come on hurry hurry', 'more battalions to the left encircle them we must thendivide', 'count dooku no interest incontests do i have', 'continuingthe end for you count this is', 'victory victory you say', 'continuingnot victory a defeat it was master obiwan begun the clonewar has', 'premonitions premonitions hmmmm these visions you have', 'yourself you speak of or someone you know', 'close to you', 'careful you must be when sensing the future anakin the fear of loss is a path to the dark side', 'death is a natural part of life rejoice for those around you who transform into the force mourn them do not miss them do not attachment leads to jealousy the shadow of greed that is', 'train yourself to let go of everything you fear to lose', 'allow this appointment lightly the council does not disturbing is this move by chancellor palpatine', 'hiding in the outer rim grievous is the outlying systems you must sweep', 'master kenobi our spies contact you must and then wait', 'go i will good relations with the wookiees i have', 'too much under the sway of the chancellor he is much anger there is in him too much pride in his powers', 'a prophecy that misread could have been', 'i hope right you are and now destroy the droid armies on kashyyyk i will may the force be with you', 'act on this we must the capture of general grievous will end this war quickly and decisively we should proceed', 'a master is needed with more experience', 'obiwan my choice is', 'i agree', 'then now the time is commander', 'to a dark place this line of thought will carry us hmmmmm great care we must take', 'stink this mud does a moment to bathe give me', 'continuing not far are we from the emergency ship quickly', 'goodbye chewbacca and tarfful miss you i will good friends you are for your help much gratitude and respect i have', 'master kenobi dark times are these good to see you it is', 'with the help of the wookiees barely escape i did', 'heard from no one have we', 'received a coded retreat message we have', 'suggest dismantling the coded signal do you', 'i agree in a dark place we find ourselves a little more knowledge might light our way', 'if a special session of congress there is easier for us to enter the jedi temple it will be', 'dismantle the coded signal quickly that group back there soon discovered will be', 'killed not by clones this padawan by a lightsaber he was', 'good for the clones to discover the recalibration a long time it will take to change it back longer still hurry', 'if into the security recordings you go only pain will you find', 'destroy the sith we must', 'to fight this lord sidious strong enough you are not', 'twisted by the dark side young skywalker has become the boy you trained gone he is consumed by darth vader', 'to question no time there is', 'use your feelings obiwan and find him you will visit the new emperor my task is may the force be with you', 'i hear a new apprentice you have emperor or should i call you darth sidious', 'surprised', 'not if anything i have to say about it lord sidious', 'continuing at an end your rule is and not short enough it was i must say', 'continuing if so powerful you are why leave', 'faith in your new apprentice misplaced may be as is your faith in the dark side of the force', 'destroy you i will just as master kenobi your apprentice will destroy', 'hurry careful timing we will need', 'into exile i must go failed i have', 'failed to stop the sith lord i have still much to learn there is', 'eternal consciousness', 'to become one with the force and influence still have a power greater than all it is', 'a great jedi master you have become quigon jinn your apprentice i gratefully become', 'save them we must they are our last hope', 'pregnant she must still appear hidden safe the children must be kept', 'split up they should be', 'to tatooine to his family send him', 'strong the force runs in the skywalker line hope we can done it is until the time is right disappear we will', 'continuing master kenobi wait a moment in your solitude on tatooine training i have for you', 'an old friend has learned the path to immortality', 'one who has returned from the netherworld of the force to train me your old master quigon jinn', 'the secret of the ancient order of the whills he studied how to commune with him i will teach you', 'how to join the force he will train you your consciousness you will retain when one with the force even your physical self perhaps', 'hmmm much anger in him like his father', 'hah he is not ready', 'ready are you what know you of ready for eight hundred years have i trained jedi my own counsel will i keep on who is to be trained a jedi must have the deepest commitment the most serious mind this one a long time have i watched never his mind on where he was hmm what he was doing hmph adventure heh excitement heh a jedi craves not these things you are reckless', 'he is too old yes too old to begin the training', 'will he finished what he begins', 'oh you will be you will be', 'run yes a jedis strength flows from the force but beware of the dark side anger fear aggression the dark side of the force are they easily they flow quick to join you in a fight if once you start down the dark path forever will it dominate your destiny consume you it will as it did obiwans apprentice', 'no no no quicker easier more seductive', 'you will know when you are calm at peace passive a jedi uses the force for knowledge and defense never for attack', 'no no there is no why nothing more will i teach you today clear your mind of questions mmm mmmmmm', 'that place is strong with the dark side of the force a domain of evil it is in you must go', 'only what you take with you', 'your weapons you will not need them', 'use the force yes', 'now the stone feel it', 'concentrate', 'so certain are you always with you it cannot be done hear you nothing that i say', 'no no different only different in your mind you must unlearn what you have learned', 'no try not do or do not there is no try', 'size matters not look at me judge me by my size do you hm mmmm', 'and well you should not for my ally in the force and a powerful ally it is life creates it makes it grow its energy surrounds us and binds us luminous beings are we not this crude matter you must feel the force around you here between you me the tree the rock everywhere yes even between this land and that ship', 'that is why you fail', 'concentrate feel the force flow yes good calm yes through the force things you will see other places the future the past old friends long gone', 'hmm control control you must learn control', 'mmm friends you have there', 'it is the future you see', 'difficult to see always in motion is the future', 'decide you must how to serve them best if you leave now help them you could but you would destroy all for which they have fought and suffered', 'luke you must complete the training', 'you must not go', 'yes yes to obiwan you listen the cave remember your failure at the cave', 'stopped they must be on this depends only a fully trained jedi knight with the force as his ally will conquer vader and his emperor if you end your training now if you choose the quick and easy path as vader did you will become an agent of evil', 'if you honor what they fight for yes', 'strong is vader mind what you have learned save you it can', 'told you i did reckless is he now matters are worse', 'no there is another', 'hmm that face you make look i so old to young eyes', 'i do yes i do sick have i become old and weak when nine hundred years old you reach look as good you will not hmm', 'soon will i rest yes forever sleep earned it i have', 'strong am i with the force but not that strong twilight is upon me and soon night must fall that is the way of things the way of the force', 'no more training do you require already know you that which you need', 'ohhh not yet one thing remains vader you must confront vader then only then a jedi will you be and confront him you will', 'mmm rest i need yes rest', 'your father he is', 'told you did he', 'unexpected this is and unfortunate', 'no unfortunate that you rushed to face him that incomplete was your training not ready for the burden were you', 'remember a jedis strength flows from the force but beware anger fear aggression the dark side are they once you start down the dark path forever will it dominate your destiny', 'luke luke do not do not underestimate the powers of the emperor or suffer your fathers fate you will luke when gone am i the last of the jedi will you be luke the force runs strong in your family pass on what you have learned luke there is another sky sky walker']\n",
            "['the', 'very', 'republic', 'is', 'threatened', 'if', 'involved', 'the', 'sith', 'are', 'hard', 'to', 'see', 'the', 'dark', 'side', 'is', 'discover', 'who', 'this', 'assassin', 'is', 'we', 'with', 'this', 'naboo', 'queen', 'you', 'must', 'stay', 'quigon', 'protect', 'her', 'may', 'the', 'force', 'be', 'with', 'you', 'contd', 'master', 'quigon', 'more', 'to', 'say', 'have', 'you', 'a', 'vergence', 'you', 'say', 'but', 'you', 'do', 'rrevealed', 'your', 'opinion', 'is', 'trained', 'as', 'a', 'jedi', 'you', 'request', 'for', 'him', 'tested', 'he', 'will', 'be', 'good', 'good', 'young', 'one', 'how', 'feel', 'you', 'afraid', 'are', 'you', 'see', 'through', 'you', 'we', 'can', 'afraid', 'to', 'lose', 'her', 'i', 'think', 'eveything', 'fear', 'is', 'the', 'path', 'to', 'the', 'dark', 'side', 'fear', 'leads', 'to', 'a', 'jedi', 'must', 'have', 'the', 'deepest', 'commitment', 'the', 'most', 'serious', 'mind', 'i', 'then', 'continue', 'we', 'will', 'correct', 'you', 'were', 'quigon', 'clouded', 'this', 'boys', 'future', 'is', 'masked', 'by', 'his', 'youth', 'an', 'apprentice', 'you', 'have', 'quigon', 'impossible', 'to', 'take', 'on', 'a', 'second', 'ready', 'so', 'early', 'are', 'you', 'what', 'know', 'you', 'of', 'ready', 'our', 'own', 'council', 'we', 'will', 'keep', 'on', 'who', 'is', 'ready', 'more', 'to', 'learn', 'he', 'and', 'draw', 'out', 'the', 'queens', 'attacker', 'young', 'skywalkers', 'fate', 'will', 'be', 'decided', 'later', 'train', 'him', 'not', 'take', 'him', 'with', 'you', 'but', 'train', 'him', 'not', 'may', 'the', 'force', 'be', 'with', 'you', 'confer', 'on', 'you', 'the', 'level', 'of', 'jedi', 'knight', 'the', 'coucil', 'does', 'but', 'agree', 'the', 'chosen', 'one', 'the', 'boy', 'may', 'be', 'nevertheless', 'grave', 'danger', 'i', 'fear', 'in', 'quigons', 'defiance', 'i', 'sense', 'in', 'you', 'need', 'that', 'you', 'do', 'not', 'agree', 'the', 'always', 'two', 'there', 'are', 'no', 'more', 'no', 'less', 'a', 'maste', 'and', 'an', 'worse', 'than', 'war', 'i', 'fear', 'muchworse', 'impossible', 'to', 'see', 'the', 'dark', 'sideclouds', 'everything', 'but', 'this', 'i', 'amsure', 'of', 'opens', 'his', 'eyesdo', 'their', 'duty', 'the', 'jedi', 'will', 'with', 'you', 'the', 'force', 'is', 'strong', 'young', 'senator', 'to', 'see', 'you', 'alivebrings', 'warm', 'feeling', 'to', 'my', 'heart', 'in', 'dark', 'times', 'nothing', 'is', 'what', 'itappears', 'to', 'be', 'but', 'the', 'fact', 'remainssenator', 'in', 'grave', 'danger', 'you', 'are', 'too', 'little', 'about', 'yourself', 'youworry', 'senator', 'and', 'too', 'much', 'aboutpolitics', 'be', 'mindful', 'of', 'yourdanger', 'padmé', 'accept', 'our', 'help', 'masking', 'the', 'future', 'is', 'thisdisturbance', 'in', 'the', 'force', 'and', 'only', 'those', 'who', 'have', 'turned', 'tothe', 'dark', 'side', 'can', 'sense', 'thepossibilities', 'of', 'the', 'future', 'onlygoing', 'through', 'the', 'dark', 'side', 'can', 'wesee', 'out', 'there', 'they', 'are', 'acertainty', 'that', 'is', 'only', 'if', 'he', 'chooses', 'to', 'follow', 'hisdestiny', 'dont', 'think', 'feel', 'be', 'as', 'onewith', 'the', 'force', 'help', 'you', 'it', 'will', 'he', 'sees', 'obiwanyounglings', 'enough', 'a', 'visitor', 'wehave', 'welcome', 'him', 'continuingmaster', 'obiwan', 'kenobi', 'meet', 'themighty', 'bear', 'clan', 'what', 'help', 'to', 'you', 'can', 'i', 'be', 'an', 'interesting', 'puzzle', 'gatherround', 'the', 'map', 'reader', 'younglings', 'master', 'obiwan', 'has', 'lost', 'a', 'planet', 'find', 'it', 'we', 'will', 'try', 'most', 'interesting', 'gravity\\x92ssilhouette', 'remains', 'but', 'the', 'starand', 'all', 'its', 'planets', 'havedisappeared', 'how', 'can', 'this', 'be', 'truly', 'wonderful', 'the', 'mind', 'of', 'achild', 'is', 'uncluttered', 'to', 'thecentre', 'of', 'the', 'pull', 'of', 'gravity', 'goand', 'find', 'your', 'planet', 'you', 'will', 'frowningmuch', 'harder', 'to', 'answer', 'thatquestion', 'is', 'the', 'council', 'is', 'confident', 'in', 'this', 'decisionobiwan', 'who', 'he', 'is', 'working', 'for', 'discoverthat', 'you', 'must', 'inform', 'the', 'chancellor', 'of', 'this', 'wemust', 'with', 'the', 'forename', 'darth', 'a', 'sith', 'hemust', 'be', 'perhaps', 'too', 'many', 'pieces', 'are', 'missingfrom', 'this', 'puzzle', 'there', 'are', 'two', 'hundred', 'less', 'or', 'more', 'agreed', 'master', 'windu', 'two', 'hundredjedi', 'send', 'enough', 'lets', 'hopethey', 'are', 'come', 'on', 'hurry', 'hurry', 'more', 'battalions', 'to', 'the', 'left', 'encircle', 'them', 'we', 'must', 'thendivide', 'count', 'dooku', 'no', 'interest', 'incontests', 'do', 'i', 'have', 'continuingthe', 'end', 'for', 'you', 'count', 'this', 'is', 'victory', 'victory', 'you', 'say', 'continuingnot', 'victory', 'a', 'defeat', 'it', 'was', 'master', 'obiwan', 'begun', 'the', 'clonewar', 'has', 'premonitions', 'premonitions', 'hmmmm', 'these', 'visions', 'you', 'have', 'yourself', 'you', 'speak', 'of', 'or', 'someone', 'you', 'know', 'close', 'to', 'you', 'careful', 'you', 'must', 'be', 'when', 'sensing', 'the', 'future', 'anakin', 'the', 'fear', 'of', 'loss', 'is', 'a', 'path', 'to', 'the', 'dark', 'side', 'death', 'is', 'a', 'natural', 'part', 'of', 'life', 'rejoice', 'for', 'those', 'around', 'you', 'who', 'transform', 'into', 'the', 'force', 'mourn', 'them', 'do', 'not', 'miss', 'them', 'do', 'not', 'attachment', 'leads', 'to', 'jealousy', 'the', 'shadow', 'of', 'greed', 'that', 'is', 'train', 'yourself', 'to', 'let', 'go', 'of', 'everything', 'you', 'fear', 'to', 'lose', 'allow', 'this', 'appointment', 'lightly', 'the', 'council', 'does', 'not', 'disturbing', 'is', 'this', 'move', 'by', 'chancellor', 'palpatine', 'hiding', 'in', 'the', 'outer', 'rim', 'grievous', 'is', 'the', 'outlying', 'systems', 'you', 'must', 'sweep', 'master', 'kenobi', 'our', 'spies', 'contact', 'you', 'must', 'and', 'then', 'wait', 'go', 'i', 'will', 'good', 'relations', 'with', 'the', 'wookiees', 'i', 'have', 'too', 'much', 'under', 'the', 'sway', 'of', 'the', 'chancellor', 'he', 'is', 'much', 'anger', 'there', 'is', 'in', 'him', 'too', 'much', 'pride', 'in', 'his', 'powers', 'a', 'prophecy', 'that', 'misread', 'could', 'have', 'been', 'i', 'hope', 'right', 'you', 'are', 'and', 'now', 'destroy', 'the', 'droid', 'armies', 'on', 'kashyyyk', 'i', 'will', 'may', 'the', 'force', 'be', 'with', 'you', 'act', 'on', 'this', 'we', 'must', 'the', 'capture', 'of', 'general', 'grievous', 'will', 'end', 'this', 'war', 'quickly', 'and', 'decisively', 'we', 'should', 'proceed', 'a', 'master', 'is', 'needed', 'with', 'more', 'experience', 'obiwan', 'my', 'choice', 'is', 'i', 'agree', 'then', 'now', 'the', 'time', 'is', 'commander', 'to', 'a', 'dark', 'place', 'this', 'line', 'of', 'thought', 'will', 'carry', 'us', 'hmmmmm', 'great', 'care', 'we', 'must', 'take', 'stink', 'this', 'mud', 'does', 'a', 'moment', 'to', 'bathe', 'give', 'me', 'continuing', 'not', 'far', 'are', 'we', 'from', 'the', 'emergency', 'ship', 'quickly', 'goodbye', 'chewbacca', 'and', 'tarfful', 'miss', 'you', 'i', 'will', 'good', 'friends', 'you', 'are', 'for', 'your', 'help', 'much', 'gratitude', 'and', 'respect', 'i', 'have', 'master', 'kenobi', 'dark', 'times', 'are', 'these', 'good', 'to', 'see', 'you', 'it', 'is', 'with', 'the', 'help', 'of', 'the', 'wookiees', 'barely', 'escape', 'i', 'did', 'heard', 'from', 'no', 'one', 'have', 'we', 'received', 'a', 'coded', 'retreat', 'message', 'we', 'have', 'suggest', 'dismantling', 'the', 'coded', 'signal', 'do', 'you', 'i', 'agree', 'in', 'a', 'dark', 'place', 'we', 'find', 'ourselves', 'a', 'little', 'more', 'knowledge', 'might', 'light', 'our', 'way', 'if', 'a', 'special', 'session', 'of', 'congress', 'there', 'is', 'easier', 'for', 'us', 'to', 'enter', 'the', 'jedi', 'temple', 'it', 'will', 'be', 'dismantle', 'the', 'coded', 'signal', 'quickly', 'that', 'group', 'back', 'there', 'soon', 'discovered', 'will', 'be', 'killed', 'not', 'by', 'clones', 'this', 'padawan', 'by', 'a', 'lightsaber', 'he', 'was', 'good', 'for', 'the', 'clones', 'to', 'discover', 'the', 'recalibration', 'a', 'long', 'time', 'it', 'will', 'take', 'to', 'change', 'it', 'back', 'longer', 'still', 'hurry', 'if', 'into', 'the', 'security', 'recordings', 'you', 'go', 'only', 'pain', 'will', 'you', 'find', 'destroy', 'the', 'sith', 'we', 'must', 'to', 'fight', 'this', 'lord', 'sidious', 'strong', 'enough', 'you', 'are', 'not', 'twisted', 'by', 'the', 'dark', 'side', 'young', 'skywalker', 'has', 'become', 'the', 'boy', 'you', 'trained', 'gone', 'he', 'is', 'consumed', 'by', 'darth', 'vader', 'to', 'question', 'no', 'time', 'there', 'is', 'use', 'your', 'feelings', 'obiwan', 'and', 'find', 'him', 'you', 'will', 'visit', 'the', 'new', 'emperor', 'my', 'task', 'is', 'may', 'the', 'force', 'be', 'with', 'you', 'i', 'hear', 'a', 'new', 'apprentice', 'you', 'have', 'emperor', 'or', 'should', 'i', 'call', 'you', 'darth', 'sidious', 'surprised', 'not', 'if', 'anything', 'i', 'have', 'to', 'say', 'about', 'it', 'lord', 'sidious', 'continuing', 'at', 'an', 'end', 'your', 'rule', 'is', 'and', 'not', 'short', 'enough', 'it', 'was', 'i', 'must', 'say', 'continuing', 'if', 'so', 'powerful', 'you', 'are', 'why', 'leave', 'faith', 'in', 'your', 'new', 'apprentice', 'misplaced', 'may', 'be', 'as', 'is', 'your', 'faith', 'in', 'the', 'dark', 'side', 'of', 'the', 'force', 'destroy', 'you', 'i', 'will', 'just', 'as', 'master', 'kenobi', 'your', 'apprentice', 'will', 'destroy', 'hurry', 'careful', 'timing', 'we', 'will', 'need', 'into', 'exile', 'i', 'must', 'go', 'failed', 'i', 'have', 'failed', 'to', 'stop', 'the', 'sith', 'lord', 'i', 'have', 'still', 'much', 'to', 'learn', 'there', 'is', 'eternal', 'consciousness', 'to', 'become', 'one', 'with', 'the', 'force', 'and', 'influence', 'still', 'have', 'a', 'power', 'greater', 'than', 'all', 'it', 'is', 'a', 'great', 'jedi', 'master', 'you', 'have', 'become', 'quigon', 'jinn', 'your', 'apprentice', 'i', 'gratefully', 'become', 'save', 'them', 'we', 'must', 'they', 'are', 'our', 'last', 'hope', 'pregnant', 'she', 'must', 'still', 'appear', 'hidden', 'safe', 'the', 'children', 'must', 'be', 'kept', 'split', 'up', 'they', 'should', 'be', 'to', 'tatooine', 'to', 'his', 'family', 'send', 'him', 'strong', 'the', 'force', 'runs', 'in', 'the', 'skywalker', 'line', 'hope', 'we', 'can', 'done', 'it', 'is', 'until', 'the', 'time', 'is', 'right', 'disappear', 'we', 'will', 'continuing', 'master', 'kenobi', 'wait', 'a', 'moment', 'in', 'your', 'solitude', 'on', 'tatooine', 'training', 'i', 'have', 'for', 'you', 'an', 'old', 'friend', 'has', 'learned', 'the', 'path', 'to', 'immortality', 'one', 'who', 'has', 'returned', 'from', 'the', 'netherworld', 'of', 'the', 'force', 'to', 'train', 'me', 'your', 'old', 'master', 'quigon', 'jinn', 'the', 'secret', 'of', 'the', 'ancient', 'order', 'of', 'the', 'whills', 'he', 'studied', 'how', 'to', 'commune', 'with', 'him', 'i', 'will', 'teach', 'you', 'how', 'to', 'join', 'the', 'force', 'he', 'will', 'train', 'you', 'your', 'consciousness', 'you', 'will', 'retain', 'when', 'one', 'with', 'the', 'force', 'even', 'your', 'physical', 'self', 'perhaps', 'hmmm', 'much', 'anger', 'in', 'him', 'like', 'his', 'father', 'hah', 'he', 'is', 'not', 'ready', 'ready', 'are', 'you', 'what', 'know', 'you', 'of', 'ready', 'for', 'eight', 'hundred', 'years', 'have', 'i', 'trained', 'jedi', 'my', 'own', 'counsel', 'will', 'i', 'keep', 'on', 'who', 'is', 'to', 'be', 'trained', 'a', 'jedi', 'must', 'have', 'the', 'deepest', 'commitment', 'the', 'most', 'serious', 'mind', 'this', 'one', 'a', 'long', 'time', 'have', 'i', 'watched', 'never', 'his', 'mind', 'on', 'where', 'he', 'was', 'hmm', 'what', 'he', 'was', 'doing', 'hmph', 'adventure', 'heh', 'excitement', 'heh', 'a', 'jedi', 'craves', 'not', 'these', 'things', 'you', 'are', 'reckless', 'he', 'is', 'too', 'old', 'yes', 'too', 'old', 'to', 'begin', 'the', 'training', 'will', 'he', 'finished', 'what', 'he', 'begins', 'oh', 'you', 'will', 'be', 'you', 'will', 'be', 'run', 'yes', 'a', 'jedis', 'strength', 'flows', 'from', 'the', 'force', 'but', 'beware', 'of', 'the', 'dark', 'side', 'anger', 'fear', 'aggression', 'the', 'dark', 'side', 'of', 'the', 'force', 'are', 'they', 'easily', 'they', 'flow', 'quick', 'to', 'join', 'you', 'in', 'a', 'fight', 'if', 'once', 'you', 'start', 'down', 'the', 'dark', 'path', 'forever', 'will', 'it', 'dominate', 'your', 'destiny', 'consume', 'you', 'it', 'will', 'as', 'it', 'did', 'obiwans', 'apprentice', 'no', 'no', 'no', 'quicker', 'easier', 'more', 'seductive', 'you', 'will', 'know', 'when', 'you', 'are', 'calm', 'at', 'peace', 'passive', 'a', 'jedi', 'uses', 'the', 'force', 'for', 'knowledge', 'and', 'defense', 'never', 'for', 'attack', 'no', 'no', 'there', 'is', 'no', 'why', 'nothing', 'more', 'will', 'i', 'teach', 'you', 'today', 'clear', 'your', 'mind', 'of', 'questions', 'mmm', 'mmmmmm', 'that', 'place', 'is', 'strong', 'with', 'the', 'dark', 'side', 'of', 'the', 'force', 'a', 'domain', 'of', 'evil', 'it', 'is', 'in', 'you', 'must', 'go', 'only', 'what', 'you', 'take', 'with', 'you', 'your', 'weapons', 'you', 'will', 'not', 'need', 'them', 'use', 'the', 'force', 'yes', 'now', 'the', 'stone', 'feel', 'it', 'concentrate', 'so', 'certain', 'are', 'you', 'always', 'with', 'you', 'it', 'cannot', 'be', 'done', 'hear', 'you', 'nothing', 'that', 'i', 'say', 'no', 'no', 'different', 'only', 'different', 'in', 'your', 'mind', 'you', 'must', 'unlearn', 'what', 'you', 'have', 'learned', 'no', 'try', 'not', 'do', 'or', 'do', 'not', 'there', 'is', 'no', 'try', 'size', 'matters', 'not', 'look', 'at', 'me', 'judge', 'me', 'by', 'my', 'size', 'do', 'you', 'hm', 'mmmm', 'and', 'well', 'you', 'should', 'not', 'for', 'my', 'ally', 'in', 'the', 'force', 'and', 'a', 'powerful', 'ally', 'it', 'is', 'life', 'creates', 'it', 'makes', 'it', 'grow', 'its', 'energy', 'surrounds', 'us', 'and', 'binds', 'us', 'luminous', 'beings', 'are', 'we', 'not', 'this', 'crude', 'matter', 'you', 'must', 'feel', 'the', 'force', 'around', 'you', 'here', 'between', 'you', 'me', 'the', 'tree', 'the', 'rock', 'everywhere', 'yes', 'even', 'between', 'this', 'land', 'and', 'that', 'ship', 'that', 'is', 'why', 'you', 'fail', 'concentrate', 'feel', 'the', 'force', 'flow', 'yes', 'good', 'calm', 'yes', 'through', 'the', 'force', 'things', 'you', 'will', 'see', 'other', 'places', 'the', 'future', 'the', 'past', 'old', 'friends', 'long', 'gone', 'hmm', 'control', 'control', 'you', 'must', 'learn', 'control', 'mmm', 'friends', 'you', 'have', 'there', 'it', 'is', 'the', 'future', 'you', 'see', 'difficult', 'to', 'see', 'always', 'in', 'motion', 'is', 'the', 'future', 'decide', 'you', 'must', 'how', 'to', 'serve', 'them', 'best', 'if', 'you', 'leave', 'now', 'help', 'them', 'you', 'could', 'but', 'you', 'would', 'destroy', 'all', 'for', 'which', 'they', 'have', 'fought', 'and', 'suffered', 'luke', 'you', 'must', 'complete', 'the', 'training', 'you', 'must', 'not', 'go', 'yes', 'yes', 'to', 'obiwan', 'you', 'listen', 'the', 'cave', 'remember', 'your', 'failure', 'at', 'the', 'cave', 'stopped', 'they', 'must', 'be', 'on', 'this', 'depends', 'only', 'a', 'fully', 'trained', 'jedi', 'knight', 'with', 'the', 'force', 'as', 'his', 'ally', 'will', 'conquer', 'vader', 'and', 'his', 'emperor', 'if', 'you', 'end', 'your', 'training', 'now', 'if', 'you', 'choose', 'the', 'quick', 'and', 'easy', 'path', 'as', 'vader', 'did', 'you', 'will', 'become', 'an', 'agent', 'of', 'evil', 'if', 'you', 'honor', 'what', 'they', 'fight', 'for', 'yes', 'strong', 'is', 'vader', 'mind', 'what', 'you', 'have', 'learned', 'save', 'you', 'it', 'can', 'told', 'you', 'i', 'did', 'reckless', 'is', 'he', 'now', 'matters', 'are', 'worse', 'no', 'there', 'is', 'another', 'hmm', 'that', 'face', 'you', 'make', 'look', 'i', 'so', 'old', 'to', 'young', 'eyes', 'i', 'do', 'yes', 'i', 'do', 'sick', 'have', 'i', 'become', 'old', 'and', 'weak', 'when', 'nine', 'hundred', 'years', 'old', 'you', 'reach', 'look', 'as', 'good', 'you', 'will', 'not', 'hmm', 'soon', 'will', 'i', 'rest', 'yes', 'forever', 'sleep', 'earned', 'it', 'i', 'have', 'strong', 'am', 'i', 'with', 'the', 'force', 'but', 'not', 'that', 'strong', 'twilight', 'is', 'upon', 'me', 'and', 'soon', 'night', 'must', 'fall', 'that', 'is', 'the', 'way', 'of', 'things', 'the', 'way', 'of', 'the', 'force', 'no', 'more', 'training', 'do', 'you', 'require', 'already', 'know', 'you', 'that', 'which', 'you', 'need', 'ohhh', 'not', 'yet', 'one', 'thing', 'remains', 'vader', 'you', 'must', 'confront', 'vader', 'then', 'only', 'then', 'a', 'jedi', 'will', 'you', 'be', 'and', 'confront', 'him', 'you', 'will', 'mmm', 'rest', 'i', 'need', 'yes', 'rest', 'your', 'father', 'he', 'is', 'told', 'you', 'did', 'he', 'unexpected', 'this', 'is', 'and', 'unfortunate', 'no', 'unfortunate', 'that', 'you', 'rushed', 'to', 'face', 'him', 'that', 'incomplete', 'was', 'your', 'training', 'not', 'ready', 'for', 'the', 'burden', 'were', 'you', 'remember', 'a', 'jedis', 'strength', 'flows', 'from', 'the', 'force', 'but', 'beware', 'anger', 'fear', 'aggression', 'the', 'dark', 'side', 'are', 'they', 'once', 'you', 'start', 'down', 'the', 'dark', 'path', 'forever', 'will', 'it', 'dominate', 'your', 'destiny', 'luke', 'luke', 'do', 'not', 'do', 'not', 'underestimate', 'the', 'powers', 'of', 'the', 'emperor', 'or', 'suffer', 'your', 'fathers', 'fate', 'you', 'will', 'luke', 'when', 'gone', 'am', 'i', 'the', 'last', 'of', 'the', 'jedi', 'will', 'you', 'be', 'luke', 'the', 'force', 'runs', 'strong', 'in', 'your', 'family', 'pass', 'on', 'what', 'you', 'have', 'learned', 'luke', 'there', 'is', 'another', 'sky', 'sky', 'walker']\n",
            "Total # of tokens(words)\n",
            "2143\n",
            "Total # of unique tokens(words)\n",
            "634\n"
          ],
          "name": "stdout"
        }
      ]
    },
    {
      "cell_type": "code",
      "metadata": {
        "id": "V52kJj-TWKDe"
      },
      "source": [
        "# integer encode sequences of words\n",
        "tokenizer = Tokenizer()\n",
        "tokenizer.fit_on_texts(obi_wan_token_list)\n",
        "unique_words = set(obi_wan_token_list)\n",
        "sequences_tokenised = tokenizer.texts_to_sequences(obi_wan_tokens)\n",
        "\n",
        "vocab_size = len(unique_words)+1\n",
        "n_sentences = len(obi_wan_tokens)"
      ],
      "execution_count": 6,
      "outputs": []
    },
    {
      "cell_type": "code",
      "metadata": {
        "colab": {
          "base_uri": "https://localhost:8080/"
        },
        "id": "MolcAEwLWL15",
        "outputId": "408d67c6-c7e4-4f9f-dbbc-62503982edea"
      },
      "source": [
        "print(unique_words)\n",
        "print(sequences_tokenised)\n",
        "\n",
        "print(vocab_size)\n",
        "print(n_sentences)"
      ],
      "execution_count": 7,
      "outputs": [
        {
          "output_type": "stream",
          "text": [
            "{'you', 'might', 'careful', 'hopethey', 'night', 'a', 'underestimate', 'congress', 'obiwans', 'premonitions', 'solitude', 'pain', 'father', 'makes', 'afraid', 'amsure', 'once', 'contact', 'been', 'power', 'beware', 'go', 'face', 'choice', 'carry', 'inform', 'session', 'done', 'killed', 'ancient', 'right', 'stopped', 'peace', 'failed', 'easier', 'rest', 'begins', 'incontests', 'sees', 'onewith', 'hmph', 'good', 'gone', 'maste', 'wemust', 'gravity\\x92ssilhouette', 'see', 'hard', 'masked', 'kenobi', 'allow', 'retain', 'destiny', 'attack', 'pregnant', 'ready', 'i', 'longer', 'under', 'too', 'commander', 'dismantling', 'by', 'clan', 'many', 'excitement', 'continuingmaster', 'hmmmm', 'which', 'eyesdo', 'hundred', 'accept', 'well', 'pull', 'then', 'alivebrings', 'runs', 'walker', 'suggest', 'my', 'try', 'queens', 'just', 'darth', 'help', 'your', 'fully', 'tarfful', 'outlying', 'droid', 'cannot', 'think', 'beings', 'decisionobiwan', 'family', 'threatened', 'but', 'we', 'eternal', 'confront', 'that', 'queen', 'palpatine', 'clear', 'size', 'long', 'unfortunate', 'thing', 'grievous', 'enter', 'chancellor', 'request', 'heh', 'flow', 'our', 'onlygoing', 'feeling', 'themighty', 'thisdisturbance', 'all', 'there', 'as', 'dominate', 'time', 'aboutpolitics', 'aggression', 'timing', 'starand', 'temple', 'emergency', 'always', 'reckless', 'rrevealed', 'early', 'secret', 'powers', 'his', 'shadow', 'upon', 'recordings', 'self', 'visions', 'at', 'feel', 'windu', 'gatherround', 'could', 'use', 'immortality', 'fate', 'misplaced', 'if', 'craves', 'everything', 'easy', 'jedis', 'questions', 'change', 'adventure', 'am', 'loss', 'reader', 'look', 'bear', 'confident', 'heart', 'concentrate', 'suffer', 'tothe', 'wait', 'achild', 'in', 'task', 'working', 'attachment', 'conquer', 'its', 'do', 'strong', 'anything', 'mind', 'serve', 'hisdestiny', 'knowledge', 'wookiees', 'fall', 'chosen', 'counsel', 'domain', 'consumed', 'learn', 'between', 'agreed', 'sleep', 'begun', 'sky', 'mindful', 'order', 'padawan', 'join', 'never', 'confer', 'him', 'greater', 'very', 'doing', 'coded', 'attacker', 'knight', 'side', 'continuingnot', 'own', 'can', 'rule', 'bathe', 'sidious', 'control', 'burden', 'will', 'contd', 'pieces', 'place', 'failure', 'interesting', 'greed', 'an', 'quigons', 'natural', 'who', 'soon', 'life', 'transform', 'than', 'turned', 'boy', 'wonderful', 'children', 'skywalkers', 'little', 'would', 'unexpected', 'fought', 'hidden', 'quigon', 'havedisappeared', 'hurry', 'ally', 'for', 'left', 'answer', 'sweep', 'sensing', 'kept', 'binds', 'judge', 'past', 'apprentice', 'dark', 'places', 'less', 'watched', 'systems', 'send', 'with', 'fathers', 'lets', 'decide', 'learned', 'masking', 'remember', 'down', 'other', 'armies', 'it', 'planets', 'incomplete', 'give', 'prophecy', 'them', 'skywalker', 'council', 'stink', 'cave', 'received', 'future', 'light', 'spies', 'frowningmuch', 'nothing', 'vader', 'assassin', 'rejoice', 'involved', 'truly', 'chooses', 'honor', 'was', 'far', 'thepossibilities', 'from', 'care', 'rushed', 'jealousy', 'padmé', 'obiwan', 'disappear', 'dooku', 'lightsaber', 'planet', 'suffered', 'agent', 'how', 'opinion', 'things', 'vergence', 'mmmmmm', 'gravity', 'start', 'flows', 'uses', 'today', 'interest', 'netherworld', 'thecentre', 'path', 'consume', 'one', 'draw', 'young', 'strength', 'eight', 'certain', 'luke', 'twilight', 'sith', 'hmmm', 'evil', 'part', 'motion', 'great', 'retreat', 'fail', 'consciousness', 'republic', 'welcome', 'serious', 'quickly', 'acertainty', 'second', 'yourdanger', 'discover', 'commune', 'must', 'finished', 'years', 'energy', 'listen', 'end', 'jedi', 'heard', 'tree', 'find', 'rock', 'gratefully', 'master', 'reach', 'returned', 'call', 'continue', 'tatooine', 'what', 'hmmmmm', 'defense', 'friends', 'misread', 'fear', 'teach', 'youth', 'the', 'rim', 'appointment', 'impossible', 'this', 'discovered', 'begin', 'come', 'missingfrom', 'sense', 'speak', 'difficult', 'complete', 'sway', 'told', 'question', 'her', 'like', 'special', 'let', 'yes', 'obiwanyounglings', 'physical', 'were', 'friend', 'disturbing', 'danger', 'hmm', 'back', 'correct', 'most', 'thought', 'forename', 'whills', 'warm', 'clonewar', 'gratitude', 'later', 'hundredjedi', 'surrounds', 'escape', 'another', 'discoverthat', 'they', 'depends', 'victory', 'ship', 'forever', 'senator', 'opens', 'eveything', 'new', 'signal', 'proceed', 'muchworse', 'sick', 'know', 'general', 'encircle', 'different', 'goand', 'mmmm', 'weak', 'needed', 'be', 'out', 'agree', 'thendivide', 'short', 'yet', 'dismantle', 'yourself', 'uncluttered', 'run', 'easily', 'into', 'does', 'stop', 'pass', 'twisted', 'anakin', 'matter', 'decided', 'grave', 'still', 'pride', 'boys', 'mmm', 'safe', 'death', 'lose', 'seductive', 'naboo', 'puzzle', 'dont', 'or', 'why', 'times', 'emperor', 'leads', 'is', 'may', 'more', 'battalions', 'defeat', 'capture', 'follow', 'quicker', 'crude', 'say', 'message', 'feelings', 'clouded', 'commitment', 'did', 'where', 'until', 'decisively', 'barely', 'stay', 'of', 'oh', 'fact', 'train', 'calm', 'remainssenator', 'ohhh', 'here', 'up', 'save', 'recalibration', 'have', 'should', 'younglings', 'security', 'perhaps', 'and', 'map', 'powerful', 'respect', 'even', 'through', 'continuingthe', 'studied', 'hemust', 'on', 'unlearn', 'to', 'creates', 'moment', 'way', 'eyes', 'mourn', 'quick', 'destroy', 'protect', 'fight', 'matters', 'force', 'line', 'level', 'make', 'so', 'need', 'meet', 'grow', 'kashyyyk', 'chewbacca', 'lost', 'require', 'anger', 'old', 'visit', 'about', 'already', 'count', 'surprised', 'harder', 'act', 'exile', 'influence', 'hope', 'hear', 'keep', 'weapons', 'hm', 'everywhere', 'outer', 'coucil', 'become', 'earned', 'experience', 'around', 'luminous', 'no', 'continuing', 'these', 'visitor', 'has', 'enough', 'wesee', 'appear', 'last', 'us', 'nine', 'defiance', 'someone', 'hiding', 'move', 'trained', 'close', 'clones', 'choose', 'she', 'land', 'wehave', 'worse', 'sideclouds', 'thatquestion', 'now', 'two', 'lightly', 'when', 'goodbye', 'deepest', 'ourselves', 'take', 'remains', 'youworry', 'tested', 'hah', 'group', 'faith', 'only', 'best', 'leave', 'stone', 'miss', 'their', 'relations', 'passive', 'split', 'jinn', 'he', 'itappears', 'nevertheless', 'training', 'duty', 'are', 'not', 'war', 'those', 'mud', 'much', 'lord', 'me'}\n",
            "[[1, 257, 258, 3, 259, 32, 260, 1, 94, 14], [261, 4, 40, 1, 23, 33, 3, 147, 48, 18, 262, 3, 20], [21, 18, 263, 264, 2, 11, 265, 58, 266, 148], [59, 1, 9, 12, 21, 2], [267, 34, 58, 37, 4, 60, 10, 2], [7, 268, 2, 60], [38, 2, 27, 269, 15, 270, 3], [75, 41, 7, 28, 2, 271, 25, 30], [272, 22, 5, 12], [42, 42, 76, 43, 77, 78, 2], [149, 14, 2], [40, 109, 2, 20, 49], [149, 4, 150, 148, 6, 151], [273, 44, 3, 1, 61, 4, 1, 23, 33, 44, 152, 4], [7, 28, 11, 10, 1, 153, 154, 1, 110, 155, 50, 6], [79, 274, 20, 5], [275, 2, 156, 58], [276, 18, 277, 51, 3, 278, 52, 45, 279], [62, 63, 2, 10, 58, 157, 4, 80, 35, 7, 280], [53, 95, 281, 14, 2, 36, 81, 2, 8, 53], [82, 158, 111, 20, 5, 159, 35, 48, 3, 53, 37, 4, 112, 22], [16, 282, 160, 1, 283, 284], [76, 285, 161, 5, 12, 286, 287], [83, 30, 13, 80, 30, 21, 2, 38, 83, 30, 13], [59, 1, 9, 12, 21, 2], [288, 35, 2, 1, 289, 8, 28, 162, 1, 290, 113, 38, 96], [1, 291, 43, 1, 163, 59, 12, 292, 164, 165, 6, 44, 19], [293, 294, 6, 166, 19, 2, 84, 26, 2, 27, 13, 96, 1], [114, 115, 29, 14, 24, 37, 24, 167, 7, 295, 16, 62], [168, 169, 170, 6, 44, 296], [157, 4, 40, 1, 23, 297, 171, 38, 18, 6, 298, 8, 299, 45, 300, 301, 302, 1, 28, 5], [21, 2, 1, 9, 3, 46, 76, 172, 4, 40, 2, 303, 304, 305, 4, 64, 306], [19, 23, 173, 116, 3, 36, 307, 4, 12, 38, 1, 308, 309, 19, 164, 165, 2, 14], [54, 174, 175, 117, 310, 172, 16, 54, 55, 311, 12, 312, 8, 313, 314, 315, 82, 65], [316, 1, 51, 3, 317, 19, 1, 9], [16, 56, 176, 48, 10, 318, 319, 23, 33, 49, 166, 320, 8, 1, 51, 321, 109, 1, 23, 33, 49, 322], [160, 29, 39, 14, 323, 26, 3], [56, 32, 22, 324, 4, 325, 326], [327, 151, 78, 12, 41, 328, 1, 9, 65, 2, 17, 5, 22, 329, 330, 97, 7, 331, 332, 333, 30], [334, 66, 85, 335, 336, 337, 338], [36, 65, 4, 2, 49, 6, 12], [62, 177, 178, 339, 1, 340, 341, 342, 34, 66, 86, 343, 7, 179, 87, 17, 20, 5, 118], [110, 177, 344, 180, 38, 1, 345, 119, 181, 346, 347, 77, 49, 18, 12], [348, 349, 1, 50, 8, 350, 3, 351, 4, 352, 8, 1, 353, 8, 354, 355, 87, 15, 179, 2, 5], [356, 357, 4, 358, 359, 3], [1, 111, 3, 360, 19, 18, 361], [48, 22, 3, 362, 25, 363, 2, 11], [364, 1, 120, 8, 18, 365], [21, 1, 366, 121, 7, 94, 367, 12], [182, 54, 368, 369, 14, 370, 18, 178, 29, 14], [115, 122, 167, 88, 37], [371, 34, 372, 115, 373, 183, 97, 374, 375, 14], [376, 35, 98, 98], [37, 377, 4, 1, 378, 379, 57, 20, 11, 380], [184, 381, 24, 382, 383, 27, 6, 10], [384, 99, 25, 2, 184, 18, 3], [123, 123, 2, 60], [385, 123, 7, 386, 17, 67, 34, 66, 387, 1, 388, 86], [185, 185, 389, 124, 390, 2, 10], [117, 2, 391, 8, 88, 392, 2, 81], [393, 4, 2], [186, 2, 11, 12, 89, 394, 1, 51, 395, 1, 44, 8, 396, 3, 7, 61, 4, 1, 23, 33], [397, 3, 7, 398, 399, 8, 187, 400, 25, 176, 188, 2, 48, 401, 125, 1, 9, 402, 57, 27, 13, 189, 57, 27, 13, 403, 152, 4, 404, 1, 405, 8, 406, 26, 3], [83, 117, 4, 407, 68, 8, 171, 2, 44, 4, 150], [408, 18, 409, 410, 1, 111, 113, 13, 411, 3, 18, 412, 52, 120, 413], [414, 19, 1, 415, 416, 190, 3, 1, 417, 418, 2, 11, 419], [34, 85, 82, 420, 421, 2, 11, 16, 79, 191], [68, 6, 5, 42, 422, 21, 1, 192, 6, 10], [54, 55, 423, 1, 424, 8, 1, 120, 22, 3, 55, 100, 29, 3, 19, 30, 54, 55, 425, 19, 45, 193], [7, 426, 26, 427, 194, 10, 428], [6, 126, 195, 2, 14, 16, 69, 90, 1, 429, 430, 35, 431, 6, 5, 59, 1, 9, 12, 21, 2], [432, 35, 18, 20, 11, 1, 433, 8, 434, 190, 5, 99, 18, 170, 127, 16, 435, 20, 101, 436], [7, 34, 3, 437, 21, 37, 438], [66, 64, 439, 3], [6, 96], [79, 69, 1, 91, 3, 440], [4, 7, 23, 128, 18, 196, 8, 441, 5, 442, 102, 443, 197, 444, 20, 11, 80], [445, 18, 446, 113, 7, 198, 4, 447, 448, 70], [103, 13, 449, 14, 20, 92, 1, 450, 199, 127], [451, 452, 16, 453, 189, 2, 6, 5, 42, 129, 2, 14, 25, 15, 65, 55, 454, 16, 455, 6, 10], [34, 85, 23, 173, 14, 124, 42, 4, 40, 2, 17, 3], [21, 1, 65, 8, 1, 192, 456, 457, 6, 93], [458, 92, 24, 43, 10, 20], [459, 7, 130, 460, 461, 20, 10], [462, 463, 1, 130, 200, 27, 2], [6, 96, 19, 7, 23, 128, 20, 87, 464, 7, 174, 37, 201, 465, 466, 82, 131], [32, 7, 467, 468, 8, 469, 29, 3, 202, 25, 102, 4, 470, 1, 28, 471, 17, 5, 12], [472, 1, 130, 200, 127, 26, 473, 203, 29, 132, 474, 5, 12], [475, 13, 52, 204, 18, 476, 52, 7, 477, 22, 67], [42, 25, 1, 204, 4, 147, 1, 478, 7, 133, 91, 17, 5, 80, 4, 479, 17, 203, 480, 104, 98], [32, 125, 1, 481, 482, 2, 68, 56, 483, 5, 2, 87], [90, 1, 94, 20, 11], [4, 134, 18, 135, 136, 46, 97, 2, 14, 13], [484, 52, 1, 23, 33, 76, 205, 86, 71, 1, 163, 2, 75, 137, 22, 3, 485, 52, 121, 72], [4, 486, 24, 91, 29, 3], [206, 15, 487, 66, 16, 87, 30, 2, 5, 488, 1, 138, 105, 64, 489, 3, 59, 1, 9, 12, 21, 2], [6, 207, 7, 138, 63, 2, 10, 105, 88, 101, 6, 490, 2, 121, 136], [491], [13, 32, 492, 6, 10, 4, 60, 175, 17, 135, 136], [103, 106, 62, 99, 15, 493, 3, 16, 13, 494, 97, 17, 67, 6, 11, 60], [103, 32, 95, 208, 2, 14, 139, 209], [210, 19, 15, 138, 63, 495, 59, 12, 41, 3, 15, 210, 19, 1, 23, 33, 8, 1, 9], [90, 2, 6, 5, 496, 41, 34, 85, 15, 63, 5, 90], [98, 186, 497, 20, 5, 84], [125, 498, 6, 11, 68, 211, 6, 10], [211, 4, 499, 1, 94, 135, 6, 10, 104, 55, 4, 112, 29, 3], [500, 212], [4, 71, 43, 21, 1, 9, 16, 501, 104, 10, 7, 502, 503, 169, 119, 17, 3], [7, 197, 28, 34, 2, 10, 71, 58, 213, 15, 63, 6, 504, 71], [214, 57, 20, 11, 39, 14, 82, 215, 126], [505, 506, 11, 104, 507, 508, 509, 1, 510, 11, 12, 511], [512, 513, 39, 101, 12], [4, 216, 4, 45, 217, 183, 30], [46, 1, 9, 218, 19, 1, 205, 196, 126, 20, 49, 219, 17, 3, 514, 1, 91, 3, 195, 515, 20, 5], [103, 34, 85, 191, 7, 198, 19, 15, 516, 35, 216, 73, 6, 10, 25, 2], [62, 47, 517, 86, 107, 1, 61, 4, 518], [43, 48, 86, 519, 92, 1, 520, 8, 1, 9, 4, 83, 70, 15, 47, 34, 58, 213], [1, 521, 8, 1, 522, 523, 8, 1, 524, 22, 525, 77, 4, 526, 21, 30, 6, 5, 220, 2], [77, 4, 221, 1, 9, 22, 5, 83, 2, 15, 212, 2, 5, 527, 89, 43, 21, 1, 9, 222, 15, 528, 529, 182], [530, 55, 100, 19, 30, 531, 45, 223], [532, 22, 3, 13, 53], [53, 14, 2, 36, 81, 2, 8, 53, 25, 533, 122, 224, 10, 6, 75, 28, 64, 158, 534, 5, 6, 159, 35, 48, 3, 4, 12, 75, 7, 28, 11, 10, 1, 153, 154, 1, 110, 155, 50, 18, 43, 7, 133, 91, 10, 6, 535, 225, 45, 50, 35, 536, 22, 67, 108, 36, 22, 67, 537, 538, 539, 226, 540, 226, 7, 28, 541, 13, 124, 140, 2, 14, 227], [22, 3, 54, 47, 31, 54, 47, 4, 542, 1, 73], [5, 22, 543, 36, 22, 544], [545, 2, 5, 12, 2, 5, 12], [546, 31, 7, 228, 229, 230, 92, 1, 9, 38, 231, 8, 1, 23, 33, 100, 44, 232, 1, 23, 33, 8, 1, 9, 14, 39, 547, 39, 233, 234, 4, 221, 2, 19, 7, 134, 32, 235, 2, 236, 237, 1, 23, 61, 141, 5, 17, 238, 15, 239, 548, 2, 17, 5, 41, 17, 93, 549, 63], [24, 24, 24, 550, 202, 37, 551], [2, 5, 81, 89, 2, 14, 240, 106, 552, 553, 7, 28, 554, 1, 9, 25, 201, 16, 555, 225, 25, 556], [24, 24, 29, 3, 24, 139, 116, 37, 5, 6, 220, 2, 557, 558, 15, 50, 8, 559, 142, 560], [26, 128, 3, 46, 21, 1, 23, 33, 8, 1, 9, 7, 561, 8, 241, 17, 3, 19, 2, 11, 68], [56, 36, 2, 80, 21, 2], [15, 562, 2, 5, 13, 84, 57], [206, 1, 9, 31], [69, 1, 563, 78, 17], [242], [95, 564, 14, 2, 114, 21, 2, 17, 565, 12, 219, 207, 2, 116, 26, 6, 60], [24, 24, 243, 56, 243, 19, 15, 50, 2, 11, 566, 36, 2, 10, 107], [24, 118, 13, 27, 88, 27, 13, 29, 3, 24, 118], [244, 245, 13, 143, 106, 70, 567, 70, 52, 64, 244, 27, 2, 568, 569], [16, 570, 2, 101, 13, 25, 64, 144, 19, 1, 9, 16, 7, 208, 144, 17, 3, 187, 571, 17, 572, 17, 573, 181, 574, 575, 102, 16, 576, 102, 577, 578, 14, 20, 13, 18, 579, 580, 2, 11, 78, 1, 9, 188, 2, 581, 246, 2, 70, 1, 582, 1, 583, 584, 31, 222, 246, 18, 585, 16, 26, 199], [26, 3, 139, 2, 586], [242, 78, 1, 9, 233, 31, 42, 240, 31, 109, 1, 9, 140, 2, 5, 40, 587, 588, 1, 51, 1, 589, 47, 129, 133, 137], [108, 145, 145, 2, 11, 112, 145], [142, 129, 2, 10, 29], [17, 3, 1, 51, 2, 40], [590, 4, 40, 114, 19, 591, 3, 1, 51], [592, 2, 11, 77, 4, 593, 57, 594, 32, 2, 209, 69, 65, 57, 2, 194, 38, 2, 595, 90, 119, 25, 247, 39, 10, 596, 16, 597], [74, 2, 11, 598, 1, 73], [2, 11, 13, 68], [31, 31, 4, 66, 2, 599, 1, 248, 249, 15, 600, 106, 1, 248], [601, 39, 11, 12, 35, 18, 602, 56, 7, 603, 75, 28, 162, 21, 1, 9, 41, 45, 144, 5, 604, 72, 16, 45, 105, 32, 2, 99, 15, 73, 69, 32, 2, 605, 1, 234, 16, 606, 61, 41, 72, 93, 2, 5, 71, 62, 607, 8, 241], [32, 2, 608, 36, 39, 134, 25, 31], [46, 3, 72, 50, 36, 2, 10, 107, 214, 2, 17, 49], [250, 2, 6, 93, 227, 3, 22, 69, 245, 14, 168], [24, 29, 3, 251], [108, 26, 252, 2, 609, 143, 6, 95, 47, 4, 76, 610], [6, 27, 31, 6, 27, 611, 10, 6, 71, 47, 16, 612, 89, 613, 122, 224, 47, 2, 614, 143, 41, 42, 2, 5, 13, 108], [132, 5, 6, 146, 31, 141, 615, 616, 17, 6, 10], [46, 253, 6, 21, 1, 9, 38, 13, 26, 46, 617, 3, 618, 70, 16, 132, 619, 11, 620, 26, 3, 1, 131, 8, 140, 1, 131, 8, 1, 9], [24, 37, 73, 27, 2, 621, 622, 81, 2, 26, 247, 2, 84], [623, 13, 624, 43, 625, 180, 72, 2, 11, 254, 72, 79, 56, 79, 7, 28, 5, 2, 12, 16, 254, 30, 2, 5], [142, 146, 6, 84, 31, 146], [15, 223, 22, 3], [250, 2, 93, 22], [626, 18, 3, 16, 255], [24, 255, 26, 2, 627, 4, 252, 30, 26, 628, 67, 15, 73, 13, 53, 25, 1, 629, 156, 2], [249, 7, 228, 229, 230, 92, 1, 9, 38, 231, 100, 44, 232, 1, 23, 33, 14, 39, 235, 2, 236, 237, 1, 23, 61, 141, 5, 17, 238, 15, 239], [74, 74, 27, 13, 27, 13, 630, 1, 193, 8, 1, 105, 88, 631, 15, 632, 161, 2, 5, 74, 89, 137, 253, 6, 1, 215, 8, 1, 28, 5, 2, 12, 74, 1, 9, 218, 46, 19, 15, 217, 633, 35, 36, 2, 10, 107, 74, 29, 3, 251, 256, 256, 634]]\n",
            "635\n",
            "168\n"
          ],
          "name": "stdout"
        }
      ]
    },
    {
      "cell_type": "code",
      "metadata": {
        "id": "Y1QUY8jMORtZ",
        "colab": {
          "base_uri": "https://localhost:8080/"
        },
        "outputId": "9012411f-31d0-4b17-8c38-41d790ece83c"
      },
      "source": [
        "!wget http://nlp.stanford.edu/data/glove.6B.zip\n",
        "!unzip glove*.zip\n",
        "!ls\n",
        "!pwd"
      ],
      "execution_count": 8,
      "outputs": [
        {
          "output_type": "stream",
          "text": [
            "--2021-04-14 22:02:43--  http://nlp.stanford.edu/data/glove.6B.zip\n",
            "Resolving nlp.stanford.edu (nlp.stanford.edu)... 171.64.67.140\n",
            "Connecting to nlp.stanford.edu (nlp.stanford.edu)|171.64.67.140|:80... connected.\n",
            "HTTP request sent, awaiting response... 302 Found\n",
            "Location: https://nlp.stanford.edu/data/glove.6B.zip [following]\n",
            "--2021-04-14 22:02:43--  https://nlp.stanford.edu/data/glove.6B.zip\n",
            "Connecting to nlp.stanford.edu (nlp.stanford.edu)|171.64.67.140|:443... connected.\n",
            "HTTP request sent, awaiting response... 301 Moved Permanently\n",
            "Location: http://downloads.cs.stanford.edu/nlp/data/glove.6B.zip [following]\n",
            "--2021-04-14 22:02:44--  http://downloads.cs.stanford.edu/nlp/data/glove.6B.zip\n",
            "Resolving downloads.cs.stanford.edu (downloads.cs.stanford.edu)... 171.64.64.22\n",
            "Connecting to downloads.cs.stanford.edu (downloads.cs.stanford.edu)|171.64.64.22|:80... connected.\n",
            "HTTP request sent, awaiting response... 200 OK\n",
            "Length: 862182613 (822M) [application/zip]\n",
            "Saving to: ‘glove.6B.zip’\n",
            "\n",
            "glove.6B.zip        100%[===================>] 822.24M  5.26MB/s    in 2m 40s  \n",
            "\n",
            "2021-04-14 22:05:24 (5.13 MB/s) - ‘glove.6B.zip’ saved [862182613/862182613]\n",
            "\n",
            "Archive:  glove.6B.zip\n",
            "  inflating: glove.6B.50d.txt        \n",
            "  inflating: glove.6B.100d.txt       \n",
            "  inflating: glove.6B.200d.txt       \n",
            "  inflating: glove.6B.300d.txt       \n",
            "drive\t\t   glove.6B.200d.txt  glove.6B.50d.txt\tsample_data\n",
            "glove.6B.100d.txt  glove.6B.300d.txt  glove.6B.zip\n",
            "/content\n"
          ],
          "name": "stdout"
        }
      ]
    },
    {
      "cell_type": "code",
      "metadata": {
        "id": "5SNQlL7mOLcN",
        "colab": {
          "base_uri": "https://localhost:8080/"
        },
        "outputId": "fe74ca78-4610-4d11-cdc6-d96b181acbfb"
      },
      "source": [
        "# load the whole embedding into memory\n",
        "embeddings_index = dict()\n",
        "f = open('/content/glove.6B.300d.txt')\n",
        "\n",
        "for line in f:\n",
        "    values = line.split()\n",
        "    word = values[0]\n",
        "    coefs = np.asarray(values[1:], dtype='float32')\n",
        "    embeddings_index[word] = coefs\n",
        "\n",
        "f.close()\n",
        "print('Loaded %s word vectors.' % len(embeddings_index))\n",
        "\n",
        "# create a weight matrix for words in training docs\n",
        "embedding_matrix = np.zeros((vocab_size, 300))\n",
        "\n",
        "for word, i in tokenizer.word_index.items():\n",
        "    embedding_vector = embeddings_index.get(word)\n",
        "    if embedding_vector is not None:\n",
        "        embedding_matrix[i] = embedding_vector"
      ],
      "execution_count": 9,
      "outputs": [
        {
          "output_type": "stream",
          "text": [
            "Loaded 400000 word vectors.\n"
          ],
          "name": "stdout"
        }
      ]
    },
    {
      "cell_type": "code",
      "metadata": {
        "colab": {
          "base_uri": "https://localhost:8080/"
        },
        "id": "M992VcLjiUVE",
        "outputId": "62de7bd5-1914-48a5-af20-c4f82a6ba339"
      },
      "source": [
        "print(embedding_matrix.shape)"
      ],
      "execution_count": 10,
      "outputs": [
        {
          "output_type": "stream",
          "text": [
            "(635, 300)\n"
          ],
          "name": "stdout"
        }
      ]
    },
    {
      "cell_type": "code",
      "metadata": {
        "id": "2YiP1jFnWNRx"
      },
      "source": [
        "#Create sliding windows\n",
        "seq_length = 5\n",
        "sequences_step = 1\n",
        "dataX = []\n",
        "dataY = []\n",
        "for dialogue in sequences_tokenised:\n",
        "  window = []\n",
        "  for i in range(len(dialogue)-5):\n",
        "    dataX.append(dialogue[i:i+5])\n",
        "    dataY.append(dialogue[i+5])\n"
      ],
      "execution_count": 11,
      "outputs": []
    },
    {
      "cell_type": "code",
      "metadata": {
        "colab": {
          "base_uri": "https://localhost:8080/"
        },
        "id": "81JQ-gRXWPEY",
        "outputId": "96fb91c0-7553-402a-a6a5-5c79f32a73a3"
      },
      "source": [
        "print(len(dataX))\n",
        "print(len(dataY))"
      ],
      "execution_count": 12,
      "outputs": [
        {
          "output_type": "stream",
          "text": [
            "1333\n",
            "1333\n"
          ],
          "name": "stdout"
        }
      ]
    },
    {
      "cell_type": "code",
      "metadata": {
        "colab": {
          "base_uri": "https://localhost:8080/"
        },
        "id": "xhphmwj6lnFq",
        "outputId": "84316fb0-b32e-4f20-e03d-18e52b64fb04"
      },
      "source": [
        "print(dataX)\n",
        "print(pd.get_dummies(dataY))"
      ],
      "execution_count": 13,
      "outputs": [
        {
          "output_type": "stream",
          "text": [
            "[[1, 257, 258, 3, 259], [257, 258, 3, 259, 32], [258, 3, 259, 32, 260], [3, 259, 32, 260, 1], [259, 32, 260, 1, 94], [261, 4, 40, 1, 23], [4, 40, 1, 23, 33], [40, 1, 23, 33, 3], [1, 23, 33, 3, 147], [23, 33, 3, 147, 48], [33, 3, 147, 48, 18], [3, 147, 48, 18, 262], [147, 48, 18, 262, 3], [21, 18, 263, 264, 2], [18, 263, 264, 2, 11], [263, 264, 2, 11, 265], [264, 2, 11, 265, 58], [2, 11, 265, 58, 266], [59, 1, 9, 12, 21], [267, 34, 58, 37, 4], [34, 58, 37, 4, 60], [58, 37, 4, 60, 10], [38, 2, 27, 269, 15], [2, 27, 269, 15, 270], [75, 41, 7, 28, 2], [41, 7, 28, 2, 271], [7, 28, 2, 271, 25], [42, 42, 76, 43, 77], [42, 76, 43, 77, 78], [149, 4, 150, 148, 6], [273, 44, 3, 1, 61], [44, 3, 1, 61, 4], [3, 1, 61, 4, 1], [1, 61, 4, 1, 23], [61, 4, 1, 23, 33], [4, 1, 23, 33, 44], [1, 23, 33, 44, 152], [7, 28, 11, 10, 1], [28, 11, 10, 1, 153], [11, 10, 1, 153, 154], [10, 1, 153, 154, 1], [1, 153, 154, 1, 110], [153, 154, 1, 110, 155], [154, 1, 110, 155, 50], [276, 18, 277, 51, 3], [18, 277, 51, 3, 278], [277, 51, 3, 278, 52], [51, 3, 278, 52, 45], [62, 63, 2, 10, 58], [63, 2, 10, 58, 157], [2, 10, 58, 157, 4], [10, 58, 157, 4, 80], [58, 157, 4, 80, 35], [157, 4, 80, 35, 7], [53, 95, 281, 14, 2], [95, 281, 14, 2, 36], [281, 14, 2, 36, 81], [14, 2, 36, 81, 2], [2, 36, 81, 2, 8], [82, 158, 111, 20, 5], [158, 111, 20, 5, 159], [111, 20, 5, 159, 35], [20, 5, 159, 35, 48], [5, 159, 35, 48, 3], [159, 35, 48, 3, 53], [35, 48, 3, 53, 37], [48, 3, 53, 37, 4], [3, 53, 37, 4, 112], [16, 282, 160, 1, 283], [76, 285, 161, 5, 12], [285, 161, 5, 12, 286], [83, 30, 13, 80, 30], [30, 13, 80, 30, 21], [13, 80, 30, 21, 2], [80, 30, 21, 2, 38], [30, 21, 2, 38, 83], [21, 2, 38, 83, 30], [59, 1, 9, 12, 21], [288, 35, 2, 1, 289], [35, 2, 1, 289, 8], [2, 1, 289, 8, 28], [1, 289, 8, 28, 162], [289, 8, 28, 162, 1], [8, 28, 162, 1, 290], [28, 162, 1, 290, 113], [162, 1, 290, 113, 38], [1, 291, 43, 1, 163], [291, 43, 1, 163, 59], [43, 1, 163, 59, 12], [1, 163, 59, 12, 292], [163, 59, 12, 292, 164], [59, 12, 292, 164, 165], [12, 292, 164, 165, 6], [292, 164, 165, 6, 44], [293, 294, 6, 166, 19], [294, 6, 166, 19, 2], [6, 166, 19, 2, 84], [166, 19, 2, 84, 26], [19, 2, 84, 26, 2], [2, 84, 26, 2, 27], [84, 26, 2, 27, 13], [26, 2, 27, 13, 96], [114, 115, 29, 14, 24], [115, 29, 14, 24, 37], [29, 14, 24, 37, 24], [14, 24, 37, 24, 167], [24, 37, 24, 167, 7], [37, 24, 167, 7, 295], [24, 167, 7, 295, 16], [168, 169, 170, 6, 44], [157, 4, 40, 1, 23], [4, 40, 1, 23, 297], [40, 1, 23, 297, 171], [1, 23, 297, 171, 38], [23, 297, 171, 38, 18], [297, 171, 38, 18, 6], [171, 38, 18, 6, 298], [38, 18, 6, 298, 8], [18, 6, 298, 8, 299], [6, 298, 8, 299, 45], [298, 8, 299, 45, 300], [8, 299, 45, 300, 301], [299, 45, 300, 301, 302], [45, 300, 301, 302, 1], [300, 301, 302, 1, 28], [21, 2, 1, 9, 3], [2, 1, 9, 3, 46], [1, 9, 3, 46, 76], [9, 3, 46, 76, 172], [3, 46, 76, 172, 4], [46, 76, 172, 4, 40], [76, 172, 4, 40, 2], [172, 4, 40, 2, 303], [4, 40, 2, 303, 304], [40, 2, 303, 304, 305], [2, 303, 304, 305, 4], [303, 304, 305, 4, 64], [19, 23, 173, 116, 3], [23, 173, 116, 3, 36], [173, 116, 3, 36, 307], [116, 3, 36, 307, 4], [3, 36, 307, 4, 12], [36, 307, 4, 12, 38], [307, 4, 12, 38, 1], [4, 12, 38, 1, 308], [12, 38, 1, 308, 309], [38, 1, 308, 309, 19], [1, 308, 309, 19, 164], [308, 309, 19, 164, 165], [309, 19, 164, 165, 2], [54, 174, 175, 117, 310], [174, 175, 117, 310, 172], [175, 117, 310, 172, 16], [117, 310, 172, 16, 54], [310, 172, 16, 54, 55], [172, 16, 54, 55, 311], [16, 54, 55, 311, 12], [54, 55, 311, 12, 312], [55, 311, 12, 312, 8], [311, 12, 312, 8, 313], [12, 312, 8, 313, 314], [312, 8, 313, 314, 315], [8, 313, 314, 315, 82], [316, 1, 51, 3, 317], [1, 51, 3, 317, 19], [51, 3, 317, 19, 1], [16, 56, 176, 48, 10], [56, 176, 48, 10, 318], [176, 48, 10, 318, 319], [48, 10, 318, 319, 23], [10, 318, 319, 23, 33], [318, 319, 23, 33, 49], [319, 23, 33, 49, 166], [23, 33, 49, 166, 320], [33, 49, 166, 320, 8], [49, 166, 320, 8, 1], [166, 320, 8, 1, 51], [320, 8, 1, 51, 321], [8, 1, 51, 321, 109], [1, 51, 321, 109, 1], [51, 321, 109, 1, 23], [321, 109, 1, 23, 33], [109, 1, 23, 33, 49], [160, 29, 39, 14, 323], [29, 39, 14, 323, 26], [56, 32, 22, 324, 4], [32, 22, 324, 4, 325], [327, 151, 78, 12, 41], [151, 78, 12, 41, 328], [78, 12, 41, 328, 1], [12, 41, 328, 1, 9], [41, 328, 1, 9, 65], [328, 1, 9, 65, 2], [1, 9, 65, 2, 17], [9, 65, 2, 17, 5], [65, 2, 17, 5, 22], [2, 17, 5, 22, 329], [17, 5, 22, 329, 330], [5, 22, 329, 330, 97], [22, 329, 330, 97, 7], [329, 330, 97, 7, 331], [330, 97, 7, 331, 332], [97, 7, 331, 332, 333], [334, 66, 85, 335, 336], [66, 85, 335, 336, 337], [36, 65, 4, 2, 49], [65, 4, 2, 49, 6], [62, 177, 178, 339, 1], [177, 178, 339, 1, 340], [178, 339, 1, 340, 341], [339, 1, 340, 341, 342], [1, 340, 341, 342, 34], [340, 341, 342, 34, 66], [341, 342, 34, 66, 86], [342, 34, 66, 86, 343], [34, 66, 86, 343, 7], [66, 86, 343, 7, 179], [86, 343, 7, 179, 87], [343, 7, 179, 87, 17], [7, 179, 87, 17, 20], [179, 87, 17, 20, 5], [110, 177, 344, 180, 38], [177, 344, 180, 38, 1], [344, 180, 38, 1, 345], [180, 38, 1, 345, 119], [38, 1, 345, 119, 181], [1, 345, 119, 181, 346], [345, 119, 181, 346, 347], [119, 181, 346, 347, 77], [181, 346, 347, 77, 49], [346, 347, 77, 49, 18], [348, 349, 1, 50, 8], [349, 1, 50, 8, 350], [1, 50, 8, 350, 3], [50, 8, 350, 3, 351], [8, 350, 3, 351, 4], [350, 3, 351, 4, 352], [3, 351, 4, 352, 8], [351, 4, 352, 8, 1], [4, 352, 8, 1, 353], [352, 8, 1, 353, 8], [8, 1, 353, 8, 354], [1, 353, 8, 354, 355], [353, 8, 354, 355, 87], [8, 354, 355, 87, 15], [354, 355, 87, 15, 179], [355, 87, 15, 179, 2], [356, 357, 4, 358, 359], [1, 111, 3, 360, 19], [111, 3, 360, 19, 18], [48, 22, 3, 362, 25], [22, 3, 362, 25, 363], [3, 362, 25, 363, 2], [364, 1, 120, 8, 18], [21, 1, 366, 121, 7], [1, 366, 121, 7, 94], [366, 121, 7, 94, 367], [182, 54, 368, 369, 14], [54, 368, 369, 14, 370], [368, 369, 14, 370, 18], [369, 14, 370, 18, 178], [14, 370, 18, 178, 29], [371, 34, 372, 115, 373], [34, 372, 115, 373, 183], [372, 115, 373, 183, 97], [115, 373, 183, 97, 374], [373, 183, 97, 374, 375], [37, 377, 4, 1, 378], [377, 4, 1, 378, 379], [4, 1, 378, 379, 57], [1, 378, 379, 57, 20], [378, 379, 57, 20, 11], [184, 381, 24, 382, 383], [381, 24, 382, 383, 27], [24, 382, 383, 27, 6], [384, 99, 25, 2, 184], [99, 25, 2, 184, 18], [385, 123, 7, 386, 17], [123, 7, 386, 17, 67], [7, 386, 17, 67, 34], [386, 17, 67, 34, 66], [17, 67, 34, 66, 387], [67, 34, 66, 387, 1], [34, 66, 387, 1, 388], [185, 185, 389, 124, 390], [185, 389, 124, 390, 2], [117, 2, 391, 8, 88], [2, 391, 8, 88, 392], [391, 8, 88, 392, 2], [186, 2, 11, 12, 89], [2, 11, 12, 89, 394], [11, 12, 89, 394, 1], [12, 89, 394, 1, 51], [89, 394, 1, 51, 395], [394, 1, 51, 395, 1], [1, 51, 395, 1, 44], [51, 395, 1, 44, 8], [395, 1, 44, 8, 396], [1, 44, 8, 396, 3], [44, 8, 396, 3, 7], [8, 396, 3, 7, 61], [396, 3, 7, 61, 4], [3, 7, 61, 4, 1], [7, 61, 4, 1, 23], [397, 3, 7, 398, 399], [3, 7, 398, 399, 8], [7, 398, 399, 8, 187], [398, 399, 8, 187, 400], [399, 8, 187, 400, 25], [8, 187, 400, 25, 176], [187, 400, 25, 176, 188], [400, 25, 176, 188, 2], [25, 176, 188, 2, 48], [176, 188, 2, 48, 401], [188, 2, 48, 401, 125], [2, 48, 401, 125, 1], [48, 401, 125, 1, 9], [401, 125, 1, 9, 402], [125, 1, 9, 402, 57], [1, 9, 402, 57, 27], [9, 402, 57, 27, 13], [402, 57, 27, 13, 189], [57, 27, 13, 189, 57], [27, 13, 189, 57, 27], [13, 189, 57, 27, 13], [189, 57, 27, 13, 403], [57, 27, 13, 403, 152], [27, 13, 403, 152, 4], [13, 403, 152, 4, 404], [403, 152, 4, 404, 1], [152, 4, 404, 1, 405], [4, 404, 1, 405, 8], [404, 1, 405, 8, 406], [1, 405, 8, 406, 26], [83, 117, 4, 407, 68], [117, 4, 407, 68, 8], [4, 407, 68, 8, 171], [407, 68, 8, 171, 2], [68, 8, 171, 2, 44], [8, 171, 2, 44, 4], [408, 18, 409, 410, 1], [18, 409, 410, 1, 111], [409, 410, 1, 111, 113], [410, 1, 111, 113, 13], [1, 111, 113, 13, 411], [111, 113, 13, 411, 3], [113, 13, 411, 3, 18], [13, 411, 3, 18, 412], [411, 3, 18, 412, 52], [3, 18, 412, 52, 120], [414, 19, 1, 415, 416], [19, 1, 415, 416, 190], [1, 415, 416, 190, 3], [415, 416, 190, 3, 1], [416, 190, 3, 1, 417], [190, 3, 1, 417, 418], [3, 1, 417, 418, 2], [1, 417, 418, 2, 11], [34, 85, 82, 420, 421], [85, 82, 420, 421, 2], [82, 420, 421, 2, 11], [420, 421, 2, 11, 16], [421, 2, 11, 16, 79], [68, 6, 5, 42, 422], [6, 5, 42, 422, 21], [5, 42, 422, 21, 1], [42, 422, 21, 1, 192], [422, 21, 1, 192, 6], [54, 55, 423, 1, 424], [55, 423, 1, 424, 8], [423, 1, 424, 8, 1], [1, 424, 8, 1, 120], [424, 8, 1, 120, 22], [8, 1, 120, 22, 3], [1, 120, 22, 3, 55], [120, 22, 3, 55, 100], [22, 3, 55, 100, 29], [3, 55, 100, 29, 3], [55, 100, 29, 3, 19], [100, 29, 3, 19, 30], [29, 3, 19, 30, 54], [3, 19, 30, 54, 55], [19, 30, 54, 55, 425], [30, 54, 55, 425, 19], [54, 55, 425, 19, 45], [7, 426, 26, 427, 194], [426, 26, 427, 194, 10], [6, 126, 195, 2, 14], [126, 195, 2, 14, 16], [195, 2, 14, 16, 69], [2, 14, 16, 69, 90], [14, 16, 69, 90, 1], [16, 69, 90, 1, 429], [69, 90, 1, 429, 430], [90, 1, 429, 430, 35], [1, 429, 430, 35, 431], [429, 430, 35, 431, 6], [430, 35, 431, 6, 5], [35, 431, 6, 5, 59], [431, 6, 5, 59, 1], [6, 5, 59, 1, 9], [5, 59, 1, 9, 12], [59, 1, 9, 12, 21], [432, 35, 18, 20, 11], [35, 18, 20, 11, 1], [18, 20, 11, 1, 433], [20, 11, 1, 433, 8], [11, 1, 433, 8, 434], [1, 433, 8, 434, 190], [433, 8, 434, 190, 5], [8, 434, 190, 5, 99], [434, 190, 5, 99, 18], [190, 5, 99, 18, 170], [5, 99, 18, 170, 127], [99, 18, 170, 127, 16], [18, 170, 127, 16, 435], [170, 127, 16, 435, 20], [127, 16, 435, 20, 101], [7, 34, 3, 437, 21], [34, 3, 437, 21, 37], [79, 69, 1, 91, 3], [4, 7, 23, 128, 18], [7, 23, 128, 18, 196], [23, 128, 18, 196, 8], [128, 18, 196, 8, 441], [18, 196, 8, 441, 5], [196, 8, 441, 5, 442], [8, 441, 5, 442, 102], [441, 5, 442, 102, 443], [5, 442, 102, 443, 197], [442, 102, 443, 197, 444], [102, 443, 197, 444, 20], [443, 197, 444, 20, 11], [445, 18, 446, 113, 7], [18, 446, 113, 7, 198], [446, 113, 7, 198, 4], [113, 7, 198, 4, 447], [7, 198, 4, 447, 448], [103, 13, 449, 14, 20], [13, 449, 14, 20, 92], [449, 14, 20, 92, 1], [14, 20, 92, 1, 450], [20, 92, 1, 450, 199], [451, 452, 16, 453, 189], [452, 16, 453, 189, 2], [16, 453, 189, 2, 6], [453, 189, 2, 6, 5], [189, 2, 6, 5, 42], [2, 6, 5, 42, 129], [6, 5, 42, 129, 2], [5, 42, 129, 2, 14], [42, 129, 2, 14, 25], [129, 2, 14, 25, 15], [2, 14, 25, 15, 65], [14, 25, 15, 65, 55], [25, 15, 65, 55, 454], [15, 65, 55, 454, 16], [65, 55, 454, 16, 455], [55, 454, 16, 455, 6], [34, 85, 23, 173, 14], [85, 23, 173, 14, 124], [23, 173, 14, 124, 42], [173, 14, 124, 42, 4], [14, 124, 42, 4, 40], [124, 42, 4, 40, 2], [42, 4, 40, 2, 17], [21, 1, 65, 8, 1], [1, 65, 8, 1, 192], [65, 8, 1, 192, 456], [8, 1, 192, 456, 457], [1, 192, 456, 457, 6], [458, 92, 24, 43, 10], [459, 7, 130, 460, 461], [7, 130, 460, 461, 20], [462, 463, 1, 130, 200], [463, 1, 130, 200, 27], [6, 96, 19, 7, 23], [96, 19, 7, 23, 128], [19, 7, 23, 128, 20], [7, 23, 128, 20, 87], [23, 128, 20, 87, 464], [128, 20, 87, 464, 7], [20, 87, 464, 7, 174], [87, 464, 7, 174, 37], [464, 7, 174, 37, 201], [7, 174, 37, 201, 465], [174, 37, 201, 465, 466], [37, 201, 465, 466, 82], [32, 7, 467, 468, 8], [7, 467, 468, 8, 469], [467, 468, 8, 469, 29], [468, 8, 469, 29, 3], [8, 469, 29, 3, 202], [469, 29, 3, 202, 25], [29, 3, 202, 25, 102], [3, 202, 25, 102, 4], [202, 25, 102, 4, 470], [25, 102, 4, 470, 1], [102, 4, 470, 1, 28], [4, 470, 1, 28, 471], [470, 1, 28, 471, 17], [1, 28, 471, 17, 5], [472, 1, 130, 200, 127], [1, 130, 200, 127, 26], [130, 200, 127, 26, 473], [200, 127, 26, 473, 203], [127, 26, 473, 203, 29], [26, 473, 203, 29, 132], [473, 203, 29, 132, 474], [203, 29, 132, 474, 5], [475, 13, 52, 204, 18], [13, 52, 204, 18, 476], [52, 204, 18, 476, 52], [204, 18, 476, 52, 7], [18, 476, 52, 7, 477], [476, 52, 7, 477, 22], [42, 25, 1, 204, 4], [25, 1, 204, 4, 147], [1, 204, 4, 147, 1], [204, 4, 147, 1, 478], [4, 147, 1, 478, 7], [147, 1, 478, 7, 133], [1, 478, 7, 133, 91], [478, 7, 133, 91, 17], [7, 133, 91, 17, 5], [133, 91, 17, 5, 80], [91, 17, 5, 80, 4], [17, 5, 80, 4, 479], [5, 80, 4, 479, 17], [80, 4, 479, 17, 203], [4, 479, 17, 203, 480], [479, 17, 203, 480, 104], [32, 125, 1, 481, 482], [125, 1, 481, 482, 2], [1, 481, 482, 2, 68], [481, 482, 2, 68, 56], [482, 2, 68, 56, 483], [2, 68, 56, 483, 5], [68, 56, 483, 5, 2], [4, 134, 18, 135, 136], [134, 18, 135, 136, 46], [18, 135, 136, 46, 97], [135, 136, 46, 97, 2], [136, 46, 97, 2, 14], [484, 52, 1, 23, 33], [52, 1, 23, 33, 76], [1, 23, 33, 76, 205], [23, 33, 76, 205, 86], [33, 76, 205, 86, 71], [76, 205, 86, 71, 1], [205, 86, 71, 1, 163], [86, 71, 1, 163, 2], [71, 1, 163, 2, 75], [1, 163, 2, 75, 137], [163, 2, 75, 137, 22], [2, 75, 137, 22, 3], [75, 137, 22, 3, 485], [137, 22, 3, 485, 52], [22, 3, 485, 52, 121], [4, 486, 24, 91, 29], [206, 15, 487, 66, 16], [15, 487, 66, 16, 87], [487, 66, 16, 87, 30], [66, 16, 87, 30, 2], [16, 87, 30, 2, 5], [87, 30, 2, 5, 488], [30, 2, 5, 488, 1], [2, 5, 488, 1, 138], [5, 488, 1, 138, 105], [488, 1, 138, 105, 64], [1, 138, 105, 64, 489], [138, 105, 64, 489, 3], [105, 64, 489, 3, 59], [64, 489, 3, 59, 1], [489, 3, 59, 1, 9], [3, 59, 1, 9, 12], [59, 1, 9, 12, 21], [6, 207, 7, 138, 63], [207, 7, 138, 63, 2], [7, 138, 63, 2, 10], [138, 63, 2, 10, 105], [63, 2, 10, 105, 88], [2, 10, 105, 88, 101], [10, 105, 88, 101, 6], [105, 88, 101, 6, 490], [88, 101, 6, 490, 2], [101, 6, 490, 2, 121], [13, 32, 492, 6, 10], [32, 492, 6, 10, 4], [492, 6, 10, 4, 60], [6, 10, 4, 60, 175], [10, 4, 60, 175, 17], [4, 60, 175, 17, 135], [103, 106, 62, 99, 15], [106, 62, 99, 15, 493], [62, 99, 15, 493, 3], [99, 15, 493, 3, 16], [15, 493, 3, 16, 13], [493, 3, 16, 13, 494], [3, 16, 13, 494, 97], [16, 13, 494, 97, 17], [13, 494, 97, 17, 67], [494, 97, 17, 67, 6], [97, 17, 67, 6, 11], [103, 32, 95, 208, 2], [32, 95, 208, 2, 14], [95, 208, 2, 14, 139], [210, 19, 15, 138, 63], [19, 15, 138, 63, 495], [15, 138, 63, 495, 59], [138, 63, 495, 59, 12], [63, 495, 59, 12, 41], [495, 59, 12, 41, 3], [59, 12, 41, 3, 15], [12, 41, 3, 15, 210], [41, 3, 15, 210, 19], [3, 15, 210, 19, 1], [15, 210, 19, 1, 23], [210, 19, 1, 23, 33], [19, 1, 23, 33, 8], [1, 23, 33, 8, 1], [90, 2, 6, 5, 496], [2, 6, 5, 496, 41], [6, 5, 496, 41, 34], [5, 496, 41, 34, 85], [496, 41, 34, 85, 15], [41, 34, 85, 15, 63], [34, 85, 15, 63, 5], [98, 186, 497, 20, 5], [125, 498, 6, 11, 68], [498, 6, 11, 68, 211], [6, 11, 68, 211, 6], [211, 4, 499, 1, 94], [4, 499, 1, 94, 135], [499, 1, 94, 135, 6], [1, 94, 135, 6, 10], [94, 135, 6, 10, 104], [135, 6, 10, 104, 55], [6, 10, 104, 55, 4], [10, 104, 55, 4, 112], [104, 55, 4, 112, 29], [4, 71, 43, 21, 1], [71, 43, 21, 1, 9], [43, 21, 1, 9, 16], [21, 1, 9, 16, 501], [1, 9, 16, 501, 104], [9, 16, 501, 104, 10], [16, 501, 104, 10, 7], [501, 104, 10, 7, 502], [104, 10, 7, 502, 503], [10, 7, 502, 503, 169], [7, 502, 503, 169, 119], [502, 503, 169, 119, 17], [7, 197, 28, 34, 2], [197, 28, 34, 2, 10], [28, 34, 2, 10, 71], [34, 2, 10, 71, 58], [2, 10, 71, 58, 213], [10, 71, 58, 213, 15], [71, 58, 213, 15, 63], [58, 213, 15, 63, 6], [213, 15, 63, 6, 504], [214, 57, 20, 11, 39], [57, 20, 11, 39, 14], [20, 11, 39, 14, 82], [11, 39, 14, 82, 215], [505, 506, 11, 104, 507], [506, 11, 104, 507, 508], [11, 104, 507, 508, 509], [104, 507, 508, 509, 1], [507, 508, 509, 1, 510], [508, 509, 1, 510, 11], [509, 1, 510, 11, 12], [4, 216, 4, 45, 217], [216, 4, 45, 217, 183], [46, 1, 9, 218, 19], [1, 9, 218, 19, 1], [9, 218, 19, 1, 205], [218, 19, 1, 205, 196], [19, 1, 205, 196, 126], [1, 205, 196, 126, 20], [205, 196, 126, 20, 49], [196, 126, 20, 49, 219], [126, 20, 49, 219, 17], [20, 49, 219, 17, 3], [49, 219, 17, 3, 514], [219, 17, 3, 514, 1], [17, 3, 514, 1, 91], [3, 514, 1, 91, 3], [514, 1, 91, 3, 195], [1, 91, 3, 195, 515], [91, 3, 195, 515, 20], [103, 34, 85, 191, 7], [34, 85, 191, 7, 198], [85, 191, 7, 198, 19], [191, 7, 198, 19, 15], [7, 198, 19, 15, 516], [198, 19, 15, 516, 35], [19, 15, 516, 35, 216], [15, 516, 35, 216, 73], [516, 35, 216, 73, 6], [35, 216, 73, 6, 10], [216, 73, 6, 10, 25], [62, 47, 517, 86, 107], [47, 517, 86, 107, 1], [517, 86, 107, 1, 61], [86, 107, 1, 61, 4], [43, 48, 86, 519, 92], [48, 86, 519, 92, 1], [86, 519, 92, 1, 520], [519, 92, 1, 520, 8], [92, 1, 520, 8, 1], [1, 520, 8, 1, 9], [520, 8, 1, 9, 4], [8, 1, 9, 4, 83], [1, 9, 4, 83, 70], [9, 4, 83, 70, 15], [4, 83, 70, 15, 47], [83, 70, 15, 47, 34], [70, 15, 47, 34, 58], [1, 521, 8, 1, 522], [521, 8, 1, 522, 523], [8, 1, 522, 523, 8], [1, 522, 523, 8, 1], [522, 523, 8, 1, 524], [523, 8, 1, 524, 22], [8, 1, 524, 22, 525], [1, 524, 22, 525, 77], [524, 22, 525, 77, 4], [22, 525, 77, 4, 526], [525, 77, 4, 526, 21], [77, 4, 526, 21, 30], [4, 526, 21, 30, 6], [526, 21, 30, 6, 5], [21, 30, 6, 5, 220], [77, 4, 221, 1, 9], [4, 221, 1, 9, 22], [221, 1, 9, 22, 5], [1, 9, 22, 5, 83], [9, 22, 5, 83, 2], [22, 5, 83, 2, 15], [5, 83, 2, 15, 212], [83, 2, 15, 212, 2], [2, 15, 212, 2, 5], [15, 212, 2, 5, 527], [212, 2, 5, 527, 89], [2, 5, 527, 89, 43], [5, 527, 89, 43, 21], [527, 89, 43, 21, 1], [89, 43, 21, 1, 9], [43, 21, 1, 9, 222], [21, 1, 9, 222, 15], [1, 9, 222, 15, 528], [9, 222, 15, 528, 529], [530, 55, 100, 19, 30], [55, 100, 19, 30, 531], [100, 19, 30, 531, 45], [53, 14, 2, 36, 81], [14, 2, 36, 81, 2], [2, 36, 81, 2, 8], [36, 81, 2, 8, 53], [81, 2, 8, 53, 25], [2, 8, 53, 25, 533], [8, 53, 25, 533, 122], [53, 25, 533, 122, 224], [25, 533, 122, 224, 10], [533, 122, 224, 10, 6], [122, 224, 10, 6, 75], [224, 10, 6, 75, 28], [10, 6, 75, 28, 64], [6, 75, 28, 64, 158], [75, 28, 64, 158, 534], [28, 64, 158, 534, 5], [64, 158, 534, 5, 6], [158, 534, 5, 6, 159], [534, 5, 6, 159, 35], [5, 6, 159, 35, 48], [6, 159, 35, 48, 3], [159, 35, 48, 3, 4], [35, 48, 3, 4, 12], [48, 3, 4, 12, 75], [3, 4, 12, 75, 7], [4, 12, 75, 7, 28], [12, 75, 7, 28, 11], [75, 7, 28, 11, 10], [7, 28, 11, 10, 1], [28, 11, 10, 1, 153], [11, 10, 1, 153, 154], [10, 1, 153, 154, 1], [1, 153, 154, 1, 110], [153, 154, 1, 110, 155], [154, 1, 110, 155, 50], [1, 110, 155, 50, 18], [110, 155, 50, 18, 43], [155, 50, 18, 43, 7], [50, 18, 43, 7, 133], [18, 43, 7, 133, 91], [43, 7, 133, 91, 10], [7, 133, 91, 10, 6], [133, 91, 10, 6, 535], [91, 10, 6, 535, 225], [10, 6, 535, 225, 45], [6, 535, 225, 45, 50], [535, 225, 45, 50, 35], [225, 45, 50, 35, 536], [45, 50, 35, 536, 22], [50, 35, 536, 22, 67], [35, 536, 22, 67, 108], [536, 22, 67, 108, 36], [22, 67, 108, 36, 22], [67, 108, 36, 22, 67], [108, 36, 22, 67, 537], [36, 22, 67, 537, 538], [22, 67, 537, 538, 539], [67, 537, 538, 539, 226], [537, 538, 539, 226, 540], [538, 539, 226, 540, 226], [539, 226, 540, 226, 7], [226, 540, 226, 7, 28], [540, 226, 7, 28, 541], [226, 7, 28, 541, 13], [7, 28, 541, 13, 124], [28, 541, 13, 124, 140], [541, 13, 124, 140, 2], [13, 124, 140, 2, 14], [22, 3, 54, 47, 31], [3, 54, 47, 31, 54], [54, 47, 31, 54, 47], [47, 31, 54, 47, 4], [31, 54, 47, 4, 542], [54, 47, 4, 542, 1], [5, 22, 543, 36, 22], [545, 2, 5, 12, 2], [2, 5, 12, 2, 5], [546, 31, 7, 228, 229], [31, 7, 228, 229, 230], [7, 228, 229, 230, 92], [228, 229, 230, 92, 1], [229, 230, 92, 1, 9], [230, 92, 1, 9, 38], [92, 1, 9, 38, 231], [1, 9, 38, 231, 8], [9, 38, 231, 8, 1], [38, 231, 8, 1, 23], [231, 8, 1, 23, 33], [8, 1, 23, 33, 100], [1, 23, 33, 100, 44], [23, 33, 100, 44, 232], [33, 100, 44, 232, 1], [100, 44, 232, 1, 23], [44, 232, 1, 23, 33], [232, 1, 23, 33, 8], [1, 23, 33, 8, 1], [23, 33, 8, 1, 9], [33, 8, 1, 9, 14], [8, 1, 9, 14, 39], [1, 9, 14, 39, 547], [9, 14, 39, 547, 39], [14, 39, 547, 39, 233], [39, 547, 39, 233, 234], [547, 39, 233, 234, 4], [39, 233, 234, 4, 221], [233, 234, 4, 221, 2], [234, 4, 221, 2, 19], [4, 221, 2, 19, 7], [221, 2, 19, 7, 134], [2, 19, 7, 134, 32], [19, 7, 134, 32, 235], [7, 134, 32, 235, 2], [134, 32, 235, 2, 236], [32, 235, 2, 236, 237], [235, 2, 236, 237, 1], [2, 236, 237, 1, 23], [236, 237, 1, 23, 61], [237, 1, 23, 61, 141], [1, 23, 61, 141, 5], [23, 61, 141, 5, 17], [61, 141, 5, 17, 238], [141, 5, 17, 238, 15], [5, 17, 238, 15, 239], [17, 238, 15, 239, 548], [238, 15, 239, 548, 2], [15, 239, 548, 2, 17], [239, 548, 2, 17, 5], [548, 2, 17, 5, 41], [2, 17, 5, 41, 17], [17, 5, 41, 17, 93], [5, 41, 17, 93, 549], [24, 24, 24, 550, 202], [24, 24, 550, 202, 37], [2, 5, 81, 89, 2], [5, 81, 89, 2, 14], [81, 89, 2, 14, 240], [89, 2, 14, 240, 106], [2, 14, 240, 106, 552], [14, 240, 106, 552, 553], [240, 106, 552, 553, 7], [106, 552, 553, 7, 28], [552, 553, 7, 28, 554], [553, 7, 28, 554, 1], [7, 28, 554, 1, 9], [28, 554, 1, 9, 25], [554, 1, 9, 25, 201], [1, 9, 25, 201, 16], [9, 25, 201, 16, 555], [25, 201, 16, 555, 225], [201, 16, 555, 225, 25], [24, 24, 29, 3, 24], [24, 29, 3, 24, 139], [29, 3, 24, 139, 116], [3, 24, 139, 116, 37], [24, 139, 116, 37, 5], [139, 116, 37, 5, 6], [116, 37, 5, 6, 220], [37, 5, 6, 220, 2], [5, 6, 220, 2, 557], [6, 220, 2, 557, 558], [220, 2, 557, 558, 15], [2, 557, 558, 15, 50], [557, 558, 15, 50, 8], [558, 15, 50, 8, 559], [15, 50, 8, 559, 142], [26, 128, 3, 46, 21], [128, 3, 46, 21, 1], [3, 46, 21, 1, 23], [46, 21, 1, 23, 33], [21, 1, 23, 33, 8], [1, 23, 33, 8, 1], [23, 33, 8, 1, 9], [33, 8, 1, 9, 7], [8, 1, 9, 7, 561], [1, 9, 7, 561, 8], [9, 7, 561, 8, 241], [7, 561, 8, 241, 17], [561, 8, 241, 17, 3], [8, 241, 17, 3, 19], [241, 17, 3, 19, 2], [17, 3, 19, 2, 11], [56, 36, 2, 80, 21], [15, 562, 2, 5, 13], [562, 2, 5, 13, 84], [95, 564, 14, 2, 114], [564, 14, 2, 114, 21], [14, 2, 114, 21, 2], [2, 114, 21, 2, 17], [114, 21, 2, 17, 565], [21, 2, 17, 565, 12], [2, 17, 565, 12, 219], [17, 565, 12, 219, 207], [565, 12, 219, 207, 2], [12, 219, 207, 2, 116], [219, 207, 2, 116, 26], [207, 2, 116, 26, 6], [24, 24, 243, 56, 243], [24, 243, 56, 243, 19], [243, 56, 243, 19, 15], [56, 243, 19, 15, 50], [243, 19, 15, 50, 2], [19, 15, 50, 2, 11], [15, 50, 2, 11, 566], [50, 2, 11, 566, 36], [2, 11, 566, 36, 2], [11, 566, 36, 2, 10], [24, 118, 13, 27, 88], [118, 13, 27, 88, 27], [13, 27, 88, 27, 13], [27, 88, 27, 13, 29], [88, 27, 13, 29, 3], [27, 13, 29, 3, 24], [244, 245, 13, 143, 106], [245, 13, 143, 106, 70], [13, 143, 106, 70, 567], [143, 106, 70, 567, 70], [106, 70, 567, 70, 52], [70, 567, 70, 52, 64], [567, 70, 52, 64, 244], [70, 52, 64, 244, 27], [52, 64, 244, 27, 2], [64, 244, 27, 2, 568], [16, 570, 2, 101, 13], [570, 2, 101, 13, 25], [2, 101, 13, 25, 64], [101, 13, 25, 64, 144], [13, 25, 64, 144, 19], [25, 64, 144, 19, 1], [64, 144, 19, 1, 9], [144, 19, 1, 9, 16], [19, 1, 9, 16, 7], [1, 9, 16, 7, 208], [9, 16, 7, 208, 144], [16, 7, 208, 144, 17], [7, 208, 144, 17, 3], [208, 144, 17, 3, 187], [144, 17, 3, 187, 571], [17, 3, 187, 571, 17], [3, 187, 571, 17, 572], [187, 571, 17, 572, 17], [571, 17, 572, 17, 573], [17, 572, 17, 573, 181], [572, 17, 573, 181, 574], [17, 573, 181, 574, 575], [573, 181, 574, 575, 102], [181, 574, 575, 102, 16], [574, 575, 102, 16, 576], [575, 102, 16, 576, 102], [102, 16, 576, 102, 577], [16, 576, 102, 577, 578], [576, 102, 577, 578, 14], [102, 577, 578, 14, 20], [577, 578, 14, 20, 13], [578, 14, 20, 13, 18], [14, 20, 13, 18, 579], [20, 13, 18, 579, 580], [13, 18, 579, 580, 2], [18, 579, 580, 2, 11], [579, 580, 2, 11, 78], [580, 2, 11, 78, 1], [2, 11, 78, 1, 9], [11, 78, 1, 9, 188], [78, 1, 9, 188, 2], [1, 9, 188, 2, 581], [9, 188, 2, 581, 246], [188, 2, 581, 246, 2], [2, 581, 246, 2, 70], [581, 246, 2, 70, 1], [246, 2, 70, 1, 582], [2, 70, 1, 582, 1], [70, 1, 582, 1, 583], [1, 582, 1, 583, 584], [582, 1, 583, 584, 31], [1, 583, 584, 31, 222], [583, 584, 31, 222, 246], [584, 31, 222, 246, 18], [31, 222, 246, 18, 585], [222, 246, 18, 585, 16], [246, 18, 585, 16, 26], [242, 78, 1, 9, 233], [78, 1, 9, 233, 31], [1, 9, 233, 31, 42], [9, 233, 31, 42, 240], [233, 31, 42, 240, 31], [31, 42, 240, 31, 109], [42, 240, 31, 109, 1], [240, 31, 109, 1, 9], [31, 109, 1, 9, 140], [109, 1, 9, 140, 2], [1, 9, 140, 2, 5], [9, 140, 2, 5, 40], [140, 2, 5, 40, 587], [2, 5, 40, 587, 588], [5, 40, 587, 588, 1], [40, 587, 588, 1, 51], [587, 588, 1, 51, 1], [588, 1, 51, 1, 589], [1, 51, 1, 589, 47], [51, 1, 589, 47, 129], [1, 589, 47, 129, 133], [108, 145, 145, 2, 11], [145, 145, 2, 11, 112], [17, 3, 1, 51, 2], [590, 4, 40, 114, 19], [4, 40, 114, 19, 591], [40, 114, 19, 591, 3], [114, 19, 591, 3, 1], [592, 2, 11, 77, 4], [2, 11, 77, 4, 593], [11, 77, 4, 593, 57], [77, 4, 593, 57, 594], [4, 593, 57, 594, 32], [593, 57, 594, 32, 2], [57, 594, 32, 2, 209], [594, 32, 2, 209, 69], [32, 2, 209, 69, 65], [2, 209, 69, 65, 57], [209, 69, 65, 57, 2], [69, 65, 57, 2, 194], [65, 57, 2, 194, 38], [57, 2, 194, 38, 2], [2, 194, 38, 2, 595], [194, 38, 2, 595, 90], [38, 2, 595, 90, 119], [2, 595, 90, 119, 25], [595, 90, 119, 25, 247], [90, 119, 25, 247, 39], [119, 25, 247, 39, 10], [25, 247, 39, 10, 596], [247, 39, 10, 596, 16], [74, 2, 11, 598, 1], [31, 31, 4, 66, 2], [31, 4, 66, 2, 599], [4, 66, 2, 599, 1], [66, 2, 599, 1, 248], [2, 599, 1, 248, 249], [599, 1, 248, 249, 15], [1, 248, 249, 15, 600], [248, 249, 15, 600, 106], [249, 15, 600, 106, 1], [601, 39, 11, 12, 35], [39, 11, 12, 35, 18], [11, 12, 35, 18, 602], [12, 35, 18, 602, 56], [35, 18, 602, 56, 7], [18, 602, 56, 7, 603], [602, 56, 7, 603, 75], [56, 7, 603, 75, 28], [7, 603, 75, 28, 162], [603, 75, 28, 162, 21], [75, 28, 162, 21, 1], [28, 162, 21, 1, 9], [162, 21, 1, 9, 41], [21, 1, 9, 41, 45], [1, 9, 41, 45, 144], [9, 41, 45, 144, 5], [41, 45, 144, 5, 604], [45, 144, 5, 604, 72], [144, 5, 604, 72, 16], [5, 604, 72, 16, 45], [604, 72, 16, 45, 105], [72, 16, 45, 105, 32], [16, 45, 105, 32, 2], [45, 105, 32, 2, 99], [105, 32, 2, 99, 15], [32, 2, 99, 15, 73], [2, 99, 15, 73, 69], [99, 15, 73, 69, 32], [15, 73, 69, 32, 2], [73, 69, 32, 2, 605], [69, 32, 2, 605, 1], [32, 2, 605, 1, 234], [2, 605, 1, 234, 16], [605, 1, 234, 16, 606], [1, 234, 16, 606, 61], [234, 16, 606, 61, 41], [16, 606, 61, 41, 72], [606, 61, 41, 72, 93], [61, 41, 72, 93, 2], [41, 72, 93, 2, 5], [72, 93, 2, 5, 71], [93, 2, 5, 71, 62], [2, 5, 71, 62, 607], [5, 71, 62, 607, 8], [32, 2, 608, 36, 39], [2, 608, 36, 39, 134], [608, 36, 39, 134, 25], [46, 3, 72, 50, 36], [3, 72, 50, 36, 2], [72, 50, 36, 2, 10], [50, 36, 2, 10, 107], [36, 2, 10, 107, 214], [2, 10, 107, 214, 2], [10, 107, 214, 2, 17], [250, 2, 6, 93, 227], [2, 6, 93, 227, 3], [6, 93, 227, 3, 22], [93, 227, 3, 22, 69], [227, 3, 22, 69, 245], [3, 22, 69, 245, 14], [108, 26, 252, 2, 609], [26, 252, 2, 609, 143], [252, 2, 609, 143, 6], [2, 609, 143, 6, 95], [609, 143, 6, 95, 47], [143, 6, 95, 47, 4], [6, 95, 47, 4, 76], [6, 27, 31, 6, 27], [27, 31, 6, 27, 611], [31, 6, 27, 611, 10], [6, 27, 611, 10, 6], [27, 611, 10, 6, 71], [611, 10, 6, 71, 47], [10, 6, 71, 47, 16], [6, 71, 47, 16, 612], [71, 47, 16, 612, 89], [47, 16, 612, 89, 613], [16, 612, 89, 613, 122], [612, 89, 613, 122, 224], [89, 613, 122, 224, 47], [613, 122, 224, 47, 2], [122, 224, 47, 2, 614], [224, 47, 2, 614, 143], [47, 2, 614, 143, 41], [2, 614, 143, 41, 42], [614, 143, 41, 42, 2], [143, 41, 42, 2, 5], [41, 42, 2, 5, 13], [132, 5, 6, 146, 31], [5, 6, 146, 31, 141], [6, 146, 31, 141, 615], [146, 31, 141, 615, 616], [31, 141, 615, 616, 17], [141, 615, 616, 17, 6], [46, 253, 6, 21, 1], [253, 6, 21, 1, 9], [6, 21, 1, 9, 38], [21, 1, 9, 38, 13], [1, 9, 38, 13, 26], [9, 38, 13, 26, 46], [38, 13, 26, 46, 617], [13, 26, 46, 617, 3], [26, 46, 617, 3, 618], [46, 617, 3, 618, 70], [617, 3, 618, 70, 16], [3, 618, 70, 16, 132], [618, 70, 16, 132, 619], [70, 16, 132, 619, 11], [16, 132, 619, 11, 620], [132, 619, 11, 620, 26], [619, 11, 620, 26, 3], [11, 620, 26, 3, 1], [620, 26, 3, 1, 131], [26, 3, 1, 131, 8], [3, 1, 131, 8, 140], [1, 131, 8, 140, 1], [131, 8, 140, 1, 131], [8, 140, 1, 131, 8], [140, 1, 131, 8, 1], [24, 37, 73, 27, 2], [37, 73, 27, 2, 621], [73, 27, 2, 621, 622], [27, 2, 621, 622, 81], [2, 621, 622, 81, 2], [621, 622, 81, 2, 26], [622, 81, 2, 26, 247], [81, 2, 26, 247, 2], [623, 13, 624, 43, 625], [13, 624, 43, 625, 180], [624, 43, 625, 180, 72], [43, 625, 180, 72, 2], [625, 180, 72, 2, 11], [180, 72, 2, 11, 254], [72, 2, 11, 254, 72], [2, 11, 254, 72, 79], [11, 254, 72, 79, 56], [254, 72, 79, 56, 79], [72, 79, 56, 79, 7], [79, 56, 79, 7, 28], [56, 79, 7, 28, 5], [79, 7, 28, 5, 2], [7, 28, 5, 2, 12], [28, 5, 2, 12, 16], [5, 2, 12, 16, 254], [2, 12, 16, 254, 30], [12, 16, 254, 30, 2], [142, 146, 6, 84, 31], [24, 255, 26, 2, 627], [255, 26, 2, 627, 4], [26, 2, 627, 4, 252], [2, 627, 4, 252, 30], [627, 4, 252, 30, 26], [4, 252, 30, 26, 628], [252, 30, 26, 628, 67], [30, 26, 628, 67, 15], [26, 628, 67, 15, 73], [628, 67, 15, 73, 13], [67, 15, 73, 13, 53], [15, 73, 13, 53, 25], [73, 13, 53, 25, 1], [13, 53, 25, 1, 629], [53, 25, 1, 629, 156], [249, 7, 228, 229, 230], [7, 228, 229, 230, 92], [228, 229, 230, 92, 1], [229, 230, 92, 1, 9], [230, 92, 1, 9, 38], [92, 1, 9, 38, 231], [1, 9, 38, 231, 100], [9, 38, 231, 100, 44], [38, 231, 100, 44, 232], [231, 100, 44, 232, 1], [100, 44, 232, 1, 23], [44, 232, 1, 23, 33], [232, 1, 23, 33, 14], [1, 23, 33, 14, 39], [23, 33, 14, 39, 235], [33, 14, 39, 235, 2], [14, 39, 235, 2, 236], [39, 235, 2, 236, 237], [235, 2, 236, 237, 1], [2, 236, 237, 1, 23], [236, 237, 1, 23, 61], [237, 1, 23, 61, 141], [1, 23, 61, 141, 5], [23, 61, 141, 5, 17], [61, 141, 5, 17, 238], [141, 5, 17, 238, 15], [74, 74, 27, 13, 27], [74, 27, 13, 27, 13], [27, 13, 27, 13, 630], [13, 27, 13, 630, 1], [27, 13, 630, 1, 193], [13, 630, 1, 193, 8], [630, 1, 193, 8, 1], [1, 193, 8, 1, 105], [193, 8, 1, 105, 88], [8, 1, 105, 88, 631], [1, 105, 88, 631, 15], [105, 88, 631, 15, 632], [88, 631, 15, 632, 161], [631, 15, 632, 161, 2], [15, 632, 161, 2, 5], [632, 161, 2, 5, 74], [161, 2, 5, 74, 89], [2, 5, 74, 89, 137], [5, 74, 89, 137, 253], [74, 89, 137, 253, 6], [89, 137, 253, 6, 1], [137, 253, 6, 1, 215], [253, 6, 1, 215, 8], [6, 1, 215, 8, 1], [1, 215, 8, 1, 28], [215, 8, 1, 28, 5], [8, 1, 28, 5, 2], [1, 28, 5, 2, 12], [28, 5, 2, 12, 74], [5, 2, 12, 74, 1], [2, 12, 74, 1, 9], [12, 74, 1, 9, 218], [74, 1, 9, 218, 46], [1, 9, 218, 46, 19], [9, 218, 46, 19, 15], [218, 46, 19, 15, 217], [46, 19, 15, 217, 633], [19, 15, 217, 633, 35], [15, 217, 633, 35, 36], [217, 633, 35, 36, 2], [633, 35, 36, 2, 10], [35, 36, 2, 10, 107], [36, 2, 10, 107, 74], [2, 10, 107, 74, 29], [10, 107, 74, 29, 3], [107, 74, 29, 3, 251], [74, 29, 3, 251, 256], [29, 3, 251, 256, 256]]\n",
            "      1    2    3    4    5    6    7    ...  628  629  630  631  632  633  634\n",
            "0       0    0    0    0    0    0    0  ...    0    0    0    0    0    0    0\n",
            "1       0    0    0    0    0    0    0  ...    0    0    0    0    0    0    0\n",
            "2       1    0    0    0    0    0    0  ...    0    0    0    0    0    0    0\n",
            "3       0    0    0    0    0    0    0  ...    0    0    0    0    0    0    0\n",
            "4       0    0    0    0    0    0    0  ...    0    0    0    0    0    0    0\n",
            "...   ...  ...  ...  ...  ...  ...  ...  ...  ...  ...  ...  ...  ...  ...  ...\n",
            "1328    0    0    1    0    0    0    0  ...    0    0    0    0    0    0    0\n",
            "1329    0    0    0    0    0    0    0  ...    0    0    0    0    0    0    0\n",
            "1330    0    0    0    0    0    0    0  ...    0    0    0    0    0    0    0\n",
            "1331    0    0    0    0    0    0    0  ...    0    0    0    0    0    0    0\n",
            "1332    0    0    0    0    0    0    0  ...    0    0    0    0    0    0    1\n",
            "\n",
            "[1333 rows x 470 columns]\n"
          ],
          "name": "stdout"
        }
      ]
    },
    {
      "cell_type": "code",
      "metadata": {
        "id": "Se9uwlnFOKNN",
        "colab": {
          "base_uri": "https://localhost:8080/"
        },
        "outputId": "411cc2b5-4c4f-4819-84bf-8c9787bb23c8"
      },
      "source": [
        "from tensorflow.keras.preprocessing.sequence import pad_sequences\n",
        "y = np.zeros((len(dataX), vocab_size), dtype=np.bool)\n",
        "for i, sentence in enumerate(dataX):\n",
        "  y[i, dataY[i]] = 1\n",
        "\n",
        "print(y.shape)\n",
        "\n",
        "X = pad_sequences(dataX, maxlen=5)\n",
        "print(X.shape)"
      ],
      "execution_count": 16,
      "outputs": [
        {
          "output_type": "stream",
          "text": [
            "(1333, 635)\n",
            "(1333, 5)\n"
          ],
          "name": "stdout"
        }
      ]
    },
    {
      "cell_type": "code",
      "metadata": {
        "id": "g1bIDiibXmJU"
      },
      "source": [
        "from tensorflow.keras.models import Sequential\n",
        "from tensorflow.keras.layers import Dense, Embedding, LSTM, SpatialDropout1D, Conv1D, MaxPooling1D, GlobalMaxPooling1D\n",
        "from tensorflow.keras.callbacks import EarlyStopping\n",
        "from tensorflow.keras.layers import Dropout, GRU, Flatten\n",
        "def bidirectional_lstm_model(seq_length, vocab_size):\n",
        "  \n",
        "    embedding_layer = Embedding(vocab_size,\n",
        "                                300,\n",
        "                                weights=[embedding_matrix],\n",
        "                                input_length=5,\n",
        "                                trainable=False)\n",
        "    inp = Input(shape=(5,))\n",
        "    x = embedding_layer(inp)\n",
        "    x = Bidirectional(LSTM(200,return_sequences=True,dropout=0.1,recurrent_dropout=0.1))(x)\n",
        "    x = GlobalMaxPool1D()(x)\n",
        "    x = Dense(vocab_size,activation='relu')(x)\n",
        "    x = Dense(vocab_size,activation='sigmoid')(x)\n",
        "    model = Model(inputs=inp,outputs=x)\n",
        "    optimizer = Adam(lr=learning_rate)\n",
        "    callbacks=[EarlyStopping(patience=2, monitor='val_loss')]\n",
        "    #call the functions in the metrics \n",
        "    model.compile(optimizer=optimizer,loss='categorical_crossentropy',metrics=['accuracy'])\n",
        "\n",
        "    return model"
      ],
      "execution_count": 17,
      "outputs": []
    },
    {
      "cell_type": "code",
      "metadata": {
        "colab": {
          "base_uri": "https://localhost:8080/"
        },
        "id": "9vCC_MX6cj11",
        "outputId": "a838e08f-e87a-45c6-c461-bb6ede6ccd06"
      },
      "source": [
        "rnn_size = 256 # size of RNN\n",
        "seq_length = 5 # sequence length\n",
        "learning_rate = 0.001 #learning rate\n",
        "\n",
        "md = bidirectional_lstm_model(seq_length, vocab_size)\n",
        "md.summary()"
      ],
      "execution_count": 18,
      "outputs": [
        {
          "output_type": "stream",
          "text": [
            "Model: \"model\"\n",
            "_________________________________________________________________\n",
            "Layer (type)                 Output Shape              Param #   \n",
            "=================================================================\n",
            "input_1 (InputLayer)         [(None, 5)]               0         \n",
            "_________________________________________________________________\n",
            "embedding (Embedding)        (None, 5, 300)            190500    \n",
            "_________________________________________________________________\n",
            "bidirectional (Bidirectional (None, 5, 400)            801600    \n",
            "_________________________________________________________________\n",
            "global_max_pooling1d (Global (None, 400)               0         \n",
            "_________________________________________________________________\n",
            "dense (Dense)                (None, 635)               254635    \n",
            "_________________________________________________________________\n",
            "dense_1 (Dense)              (None, 635)               403860    \n",
            "=================================================================\n",
            "Total params: 1,650,595\n",
            "Trainable params: 1,460,095\n",
            "Non-trainable params: 190,500\n",
            "_________________________________________________________________\n"
          ],
          "name": "stdout"
        }
      ]
    },
    {
      "cell_type": "code",
      "metadata": {
        "colab": {
          "base_uri": "https://localhost:8080/"
        },
        "id": "wIO7ag7Acm96",
        "outputId": "ac6ffe63-9690-4e71-8636-b681d95e6562"
      },
      "source": [
        "batch_size = 32 # minibatch size\n",
        "num_epochs = 100 # number of epochs\n",
        "\n",
        "callbacks=[EarlyStopping(patience=4, monitor='val_loss'),\n",
        "           ModelCheckpoint(filepath=\"./\" + 'my_model_gen_sentences.{epoch:02d}-{val_loss:.2f}.hdf5',\\\n",
        "                           monitor='val_loss', verbose=0, mode='auto', period=2)]\n",
        "#fit the model\n",
        "history = md.fit(X, y,\n",
        "                 batch_size=batch_size,\n",
        "                 shuffle=True,\n",
        "                 epochs=num_epochs,\n",
        "                 callbacks=callbacks,\n",
        "                 validation_split=0.1)\n",
        "\n",
        "#save the model\n",
        "md.save(\"/content/drive/MyDrive/Colab Notebooks/\" + \"my_model_generate_sentences.h5\")"
      ],
      "execution_count": 19,
      "outputs": [
        {
          "output_type": "stream",
          "text": [
            "WARNING:tensorflow:`period` argument is deprecated. Please use `save_freq` to specify the frequency in number of batches seen.\n",
            "Epoch 1/100\n",
            "38/38 [==============================] - 9s 107ms/step - loss: 6.1756 - accuracy: 0.0318 - val_loss: 5.6019 - val_accuracy: 0.0896\n",
            "Epoch 2/100\n",
            "38/38 [==============================] - 3s 81ms/step - loss: 5.3688 - accuracy: 0.0799 - val_loss: 5.6757 - val_accuracy: 0.1045\n",
            "Epoch 3/100\n",
            "38/38 [==============================] - 3s 81ms/step - loss: 5.0499 - accuracy: 0.0945 - val_loss: 5.6340 - val_accuracy: 0.1194\n",
            "Epoch 4/100\n",
            "38/38 [==============================] - 3s 81ms/step - loss: 4.5667 - accuracy: 0.1318 - val_loss: 5.7563 - val_accuracy: 0.1194\n",
            "Epoch 5/100\n",
            "38/38 [==============================] - 3s 83ms/step - loss: 3.9006 - accuracy: 0.1842 - val_loss: 5.7658 - val_accuracy: 0.1493\n"
          ],
          "name": "stdout"
        }
      ]
    },
    {
      "cell_type": "code",
      "metadata": {
        "id": "YkP6UO7YF_Rv"
      },
      "source": [
        "md.save(\"/content/drive/MyDrive/Colab Notebooks/\" + \"my_model_generate_sentences.h5\")"
      ],
      "execution_count": 20,
      "outputs": []
    },
    {
      "cell_type": "code",
      "metadata": {
        "id": "IJskwTJ4c-te"
      },
      "source": [
        "model = load_model(\"/content/drive/MyDrive/Colab Notebooks/\" + \"my_model_generate_sentences.h5\")"
      ],
      "execution_count": 21,
      "outputs": []
    },
    {
      "cell_type": "code",
      "metadata": {
        "id": "7jIzZtb2esjO"
      },
      "source": [
        "def sample(preds, temperature=2.0):\n",
        "    # helper function to sample an index from a probability array\n",
        "    preds = np.asarray(preds).astype('float64')\n",
        "    preds = np.log(preds) / temperature\n",
        "    exp_preds = np.exp(preds)\n",
        "    preds = exp_preds / np.sum(exp_preds)\n",
        "    probas = np.random.multinomial(1, preds, 1)\n",
        "    return np.argmax(probas)"
      ],
      "execution_count": 22,
      "outputs": []
    },
    {
      "cell_type": "code",
      "metadata": {
        "id": "xhSe-j21fhS3"
      },
      "source": [
        "reverse_word_dict = {v: k for k, v in tokenizer.word_index.items()}"
      ],
      "execution_count": 23,
      "outputs": []
    },
    {
      "cell_type": "code",
      "metadata": {
        "id": "mWfTi1SLfPt5"
      },
      "source": [
        "def generate_random_text():\n",
        "\n",
        "  #initiate sentences\n",
        "  generated = ''\n",
        "  sentence = dataX[randint(0,len(dataX))]\n",
        "  sentence = [' '.join([reverse_word_dict[word] for word in sentence])]\n",
        "  generated += sentence[0]\n",
        "\n",
        "  #we generate the next text\n",
        "  for i in range(5):\n",
        "    \n",
        "      seq = tokenizer.texts_to_sequences(sentence)\n",
        "      padded = pad_sequences(seq, maxlen=5)\n",
        "\n",
        "      #calculate next word\n",
        "      preds = model.predict(padded, verbose=0)[0]\n",
        "      next_index = sample(preds, 0.33)\n",
        "      next_word = reverse_word_dict[next_index]\n",
        "\n",
        "      #add the next word to the text\n",
        "      generated += \" \" + next_word\n",
        "      sentence = [' '.join(sentence[0].split()[1:]) + \" \" + next_word]\n",
        "      \n",
        "  #print the whole text\n",
        "  return (generated)"
      ],
      "execution_count": 24,
      "outputs": []
    },
    {
      "cell_type": "code",
      "metadata": {
        "id": "rpyi26RLGxLo",
        "colab": {
          "base_uri": "https://localhost:8080/"
        },
        "outputId": "18141ec7-9dad-47ae-862c-4c65e350fc97"
      },
      "source": [
        "n_sentences_gen = 10\n",
        "generated_sentences = []\n",
        "for i in range(n_sentences_gen):\n",
        "  generated_sentences.append(generate_random_text())\n",
        "\n",
        "print(generated_sentences)"
      ],
      "execution_count": 25,
      "outputs": [
        {
          "output_type": "stream",
          "text": [
            "[31, 7, 228, 229, 230]\n",
            "generated sentence:  yes a jedis strength flows the\n",
            "generated sentence:  yes a jedis strength flows the force\n",
            "generated sentence:  yes a jedis strength flows the force you\n",
            "generated sentence:  yes a jedis strength flows the force you will\n",
            "generated sentence:  yes a jedis strength flows the force you will see\n",
            "[2, 11, 254, 72, 79]\n",
            "generated sentence:  you must confront vader then i\n",
            "generated sentence:  you must confront vader then i have\n",
            "generated sentence:  you must confront vader then i have you\n",
            "generated sentence:  you must confront vader then i have you are\n",
            "generated sentence:  you must confront vader then i have you are that\n",
            "[8, 1, 522, 523, 8]\n",
            "generated sentence:  of the ancient order of the\n",
            "generated sentence:  of the ancient order of the the\n",
            "generated sentence:  of the ancient order of the the wookiees\n",
            "generated sentence:  of the ancient order of the the wookiees barely\n",
            "generated sentence:  of the ancient order of the the wookiees barely i\n",
            "[632, 161, 2, 5, 74]\n",
            "generated sentence:  fathers fate you will luke your\n",
            "generated sentence:  fathers fate you will luke your will\n",
            "generated sentence:  fathers fate you will luke your will be\n",
            "generated sentence:  fathers fate you will luke your will be be\n",
            "generated sentence:  fathers fate you will luke your will be be as\n",
            "[70, 16, 132, 619, 11]\n",
            "generated sentence:  me and soon night must be\n",
            "generated sentence:  me and soon night must be a\n",
            "generated sentence:  me and soon night must be a moment\n",
            "generated sentence:  me and soon night must be a moment to\n",
            "generated sentence:  me and soon night must be a moment to the\n",
            "[68, 8, 171, 2, 44]\n",
            "generated sentence:  go of everything you fear this\n",
            "generated sentence:  go of everything you fear this is\n",
            "generated sentence:  go of everything you fear this is to\n",
            "generated sentence:  go of everything you fear this is to your\n",
            "generated sentence:  go of everything you fear this is to your of\n",
            "[18, 170, 127, 16, 435]\n",
            "generated sentence:  this war quickly and decisively and\n",
            "generated sentence:  this war quickly and decisively and through\n",
            "generated sentence:  this war quickly and decisively and through the\n",
            "generated sentence:  this war quickly and decisively and through the future\n",
            "generated sentence:  this war quickly and decisively and through the future the\n",
            "[79, 56, 79, 7, 28]\n",
            "generated sentence:  then only then a jedi knight\n",
            "generated sentence:  then only then a jedi knight the\n",
            "generated sentence:  then only then a jedi knight the force\n",
            "generated sentence:  then only then a jedi knight the force will\n",
            "generated sentence:  then only then a jedi knight the force will be\n",
            "[23, 173, 14, 124, 42]\n",
            "generated sentence:  dark times are these good to\n",
            "generated sentence:  dark times are these good to you\n",
            "generated sentence:  dark times are these good to you your\n",
            "generated sentence:  dark times are these good to you your it\n",
            "generated sentence:  dark times are these good to you your it will\n",
            "[115, 29, 14, 24, 37]\n",
            "generated sentence:  two there are no more more\n",
            "generated sentence:  two there are no more more no\n",
            "generated sentence:  two there are no more more no more\n",
            "generated sentence:  two there are no more more no more why\n",
            "generated sentence:  two there are no more more no more why more\n",
            "['yes a jedis strength flows the force you will see', 'you must confront vader then i have you are that', 'of the ancient order of the the wookiees barely i', 'fathers fate you will luke your will be be as', 'me and soon night must be a moment to the', 'go of everything you fear this is to your of', 'this war quickly and decisively and through the future the', 'then only then a jedi knight the force will be', 'dark times are these good to you your it will', 'two there are no more more no more why more']\n"
          ],
          "name": "stdout"
        }
      ]
    },
    {
      "cell_type": "code",
      "metadata": {
        "id": "pOQBc7iR6Hyj"
      },
      "source": [
        "from nltk.translate.bleu_score import SmoothingFunction, corpus_bleu, sentence_bleu"
      ],
      "execution_count": 26,
      "outputs": []
    },
    {
      "cell_type": "code",
      "metadata": {
        "id": "4twp_V_IsPZC"
      },
      "source": [
        "gen = ['yes a jedis strength flows the force you will see', 'you must confront vader then i have you are that', 'of the ancient order of the the wookiees barely i', 'fathers fate you will luke your will be be as', 'me and soon night must be a moment to the', 'go of everything you fear this is to your of', 'this war quickly and decisively and through the future the', 'then only then a jedi knight the force will be', 'dark times are these good to you your it will', 'two there are no more more no more why more']\n",
        "ref = obi_wan_tokens"
      ],
      "execution_count": 27,
      "outputs": []
    },
    {
      "cell_type": "code",
      "metadata": {
        "colab": {
          "base_uri": "https://localhost:8080/"
        },
        "id": "qPiMLJz2yH1j",
        "outputId": "e6c276e8-7c65-4958-ddda-fbb5f111af42"
      },
      "source": [
        "print(ref)\n",
        "print(gen[1].split())"
      ],
      "execution_count": 28,
      "outputs": [
        {
          "output_type": "stream",
          "text": [
            "[['the', 'very', 'republic', 'is', 'threatened', 'if', 'involved', 'the', 'sith', 'are'], ['hard', 'to', 'see', 'the', 'dark', 'side', 'is', 'discover', 'who', 'this', 'assassin', 'is', 'we'], ['with', 'this', 'naboo', 'queen', 'you', 'must', 'stay', 'quigon', 'protect', 'her'], ['may', 'the', 'force', 'be', 'with', 'you'], ['contd', 'master', 'quigon', 'more', 'to', 'say', 'have', 'you'], ['a', 'vergence', 'you', 'say'], ['but', 'you', 'do', 'rrevealed', 'your', 'opinion', 'is'], ['trained', 'as', 'a', 'jedi', 'you', 'request', 'for', 'him'], ['tested', 'he', 'will', 'be'], ['good', 'good', 'young', 'one', 'how', 'feel', 'you'], ['afraid', 'are', 'you'], ['see', 'through', 'you', 'we', 'can'], ['afraid', 'to', 'lose', 'her', 'i', 'think'], ['eveything', 'fear', 'is', 'the', 'path', 'to', 'the', 'dark', 'side', 'fear', 'leads', 'to'], ['a', 'jedi', 'must', 'have', 'the', 'deepest', 'commitment', 'the', 'most', 'serious', 'mind', 'i'], ['then', 'continue', 'we', 'will'], ['correct', 'you', 'were', 'quigon'], ['clouded', 'this', 'boys', 'future', 'is', 'masked', 'by', 'his', 'youth'], ['an', 'apprentice', 'you', 'have', 'quigon', 'impossible', 'to', 'take', 'on', 'a', 'second'], ['ready', 'so', 'early', 'are', 'you', 'what', 'know', 'you', 'of', 'ready'], ['our', 'own', 'council', 'we', 'will', 'keep', 'on', 'who', 'is', 'ready', 'more', 'to', 'learn', 'he'], ['and', 'draw', 'out', 'the', 'queens', 'attacker'], ['young', 'skywalkers', 'fate', 'will', 'be', 'decided', 'later'], ['train', 'him', 'not', 'take', 'him', 'with', 'you', 'but', 'train', 'him', 'not'], ['may', 'the', 'force', 'be', 'with', 'you'], ['confer', 'on', 'you', 'the', 'level', 'of', 'jedi', 'knight', 'the', 'coucil', 'does', 'but', 'agree'], ['the', 'chosen', 'one', 'the', 'boy', 'may', 'be', 'nevertheless', 'grave', 'danger', 'i', 'fear', 'in'], ['quigons', 'defiance', 'i', 'sense', 'in', 'you', 'need', 'that', 'you', 'do', 'not', 'agree', 'the'], ['always', 'two', 'there', 'are', 'no', 'more', 'no', 'less', 'a', 'maste', 'and', 'an'], ['worse', 'than', 'war', 'i', 'fear', 'muchworse'], ['impossible', 'to', 'see', 'the', 'dark', 'sideclouds', 'everything', 'but', 'this', 'i', 'amsure', 'of', 'opens', 'his', 'eyesdo', 'their', 'duty', 'the', 'jedi', 'will'], ['with', 'you', 'the', 'force', 'is', 'strong', 'young', 'senator', 'to', 'see', 'you', 'alivebrings', 'warm', 'feeling', 'to', 'my', 'heart'], ['in', 'dark', 'times', 'nothing', 'is', 'what', 'itappears', 'to', 'be', 'but', 'the', 'fact', 'remainssenator', 'in', 'grave', 'danger', 'you', 'are'], ['too', 'little', 'about', 'yourself', 'youworry', 'senator', 'and', 'too', 'much', 'aboutpolitics', 'be', 'mindful', 'of', 'yourdanger', 'padmé', 'accept', 'our', 'help'], ['masking', 'the', 'future', 'is', 'thisdisturbance', 'in', 'the', 'force'], ['and', 'only', 'those', 'who', 'have', 'turned', 'tothe', 'dark', 'side', 'can', 'sense', 'thepossibilities', 'of', 'the', 'future', 'onlygoing', 'through', 'the', 'dark', 'side', 'can', 'wesee'], ['out', 'there', 'they', 'are', 'acertainty', 'that', 'is'], ['only', 'if', 'he', 'chooses', 'to', 'follow', 'hisdestiny'], ['dont', 'think', 'feel', 'be', 'as', 'onewith', 'the', 'force', 'help', 'you', 'it', 'will', 'he', 'sees', 'obiwanyounglings', 'enough', 'a', 'visitor', 'wehave', 'welcome', 'him'], ['continuingmaster', 'obiwan', 'kenobi', 'meet', 'themighty', 'bear', 'clan'], ['what', 'help', 'to', 'you', 'can', 'i', 'be'], ['an', 'interesting', 'puzzle', 'gatherround', 'the', 'map', 'reader', 'younglings', 'master', 'obiwan', 'has', 'lost', 'a', 'planet', 'find', 'it', 'we', 'will', 'try'], ['most', 'interesting', 'gravity\\x92ssilhouette', 'remains', 'but', 'the', 'starand', 'all', 'its', 'planets', 'havedisappeared', 'how', 'can', 'this', 'be'], ['truly', 'wonderful', 'the', 'mind', 'of', 'achild', 'is', 'uncluttered', 'to', 'thecentre', 'of', 'the', 'pull', 'of', 'gravity', 'goand', 'find', 'your', 'planet', 'you', 'will'], ['frowningmuch', 'harder', 'to', 'answer', 'thatquestion', 'is'], ['the', 'council', 'is', 'confident', 'in', 'this', 'decisionobiwan'], ['who', 'he', 'is', 'working', 'for', 'discoverthat', 'you', 'must'], ['inform', 'the', 'chancellor', 'of', 'this', 'wemust'], ['with', 'the', 'forename', 'darth', 'a', 'sith', 'hemust', 'be'], ['perhaps', 'too', 'many', 'pieces', 'are', 'missingfrom', 'this', 'puzzle', 'there', 'are'], ['two', 'hundred', 'less', 'or', 'more'], ['agreed', 'master', 'windu', 'two', 'hundredjedi', 'send', 'enough', 'lets', 'hopethey', 'are'], ['come', 'on', 'hurry', 'hurry'], ['more', 'battalions', 'to', 'the', 'left', 'encircle', 'them', 'we', 'must', 'thendivide'], ['count', 'dooku', 'no', 'interest', 'incontests', 'do', 'i', 'have'], ['continuingthe', 'end', 'for', 'you', 'count', 'this', 'is'], ['victory', 'victory', 'you', 'say'], ['continuingnot', 'victory', 'a', 'defeat', 'it', 'was', 'master', 'obiwan', 'begun', 'the', 'clonewar', 'has'], ['premonitions', 'premonitions', 'hmmmm', 'these', 'visions', 'you', 'have'], ['yourself', 'you', 'speak', 'of', 'or', 'someone', 'you', 'know'], ['close', 'to', 'you'], ['careful', 'you', 'must', 'be', 'when', 'sensing', 'the', 'future', 'anakin', 'the', 'fear', 'of', 'loss', 'is', 'a', 'path', 'to', 'the', 'dark', 'side'], ['death', 'is', 'a', 'natural', 'part', 'of', 'life', 'rejoice', 'for', 'those', 'around', 'you', 'who', 'transform', 'into', 'the', 'force', 'mourn', 'them', 'do', 'not', 'miss', 'them', 'do', 'not', 'attachment', 'leads', 'to', 'jealousy', 'the', 'shadow', 'of', 'greed', 'that', 'is'], ['train', 'yourself', 'to', 'let', 'go', 'of', 'everything', 'you', 'fear', 'to', 'lose'], ['allow', 'this', 'appointment', 'lightly', 'the', 'council', 'does', 'not', 'disturbing', 'is', 'this', 'move', 'by', 'chancellor', 'palpatine'], ['hiding', 'in', 'the', 'outer', 'rim', 'grievous', 'is', 'the', 'outlying', 'systems', 'you', 'must', 'sweep'], ['master', 'kenobi', 'our', 'spies', 'contact', 'you', 'must', 'and', 'then', 'wait'], ['go', 'i', 'will', 'good', 'relations', 'with', 'the', 'wookiees', 'i', 'have'], ['too', 'much', 'under', 'the', 'sway', 'of', 'the', 'chancellor', 'he', 'is', 'much', 'anger', 'there', 'is', 'in', 'him', 'too', 'much', 'pride', 'in', 'his', 'powers'], ['a', 'prophecy', 'that', 'misread', 'could', 'have', 'been'], ['i', 'hope', 'right', 'you', 'are', 'and', 'now', 'destroy', 'the', 'droid', 'armies', 'on', 'kashyyyk', 'i', 'will', 'may', 'the', 'force', 'be', 'with', 'you'], ['act', 'on', 'this', 'we', 'must', 'the', 'capture', 'of', 'general', 'grievous', 'will', 'end', 'this', 'war', 'quickly', 'and', 'decisively', 'we', 'should', 'proceed'], ['a', 'master', 'is', 'needed', 'with', 'more', 'experience'], ['obiwan', 'my', 'choice', 'is'], ['i', 'agree'], ['then', 'now', 'the', 'time', 'is', 'commander'], ['to', 'a', 'dark', 'place', 'this', 'line', 'of', 'thought', 'will', 'carry', 'us', 'hmmmmm', 'great', 'care', 'we', 'must', 'take'], ['stink', 'this', 'mud', 'does', 'a', 'moment', 'to', 'bathe', 'give', 'me'], ['continuing', 'not', 'far', 'are', 'we', 'from', 'the', 'emergency', 'ship', 'quickly'], ['goodbye', 'chewbacca', 'and', 'tarfful', 'miss', 'you', 'i', 'will', 'good', 'friends', 'you', 'are', 'for', 'your', 'help', 'much', 'gratitude', 'and', 'respect', 'i', 'have'], ['master', 'kenobi', 'dark', 'times', 'are', 'these', 'good', 'to', 'see', 'you', 'it', 'is'], ['with', 'the', 'help', 'of', 'the', 'wookiees', 'barely', 'escape', 'i', 'did'], ['heard', 'from', 'no', 'one', 'have', 'we'], ['received', 'a', 'coded', 'retreat', 'message', 'we', 'have'], ['suggest', 'dismantling', 'the', 'coded', 'signal', 'do', 'you'], ['i', 'agree', 'in', 'a', 'dark', 'place', 'we', 'find', 'ourselves', 'a', 'little', 'more', 'knowledge', 'might', 'light', 'our', 'way'], ['if', 'a', 'special', 'session', 'of', 'congress', 'there', 'is', 'easier', 'for', 'us', 'to', 'enter', 'the', 'jedi', 'temple', 'it', 'will', 'be'], ['dismantle', 'the', 'coded', 'signal', 'quickly', 'that', 'group', 'back', 'there', 'soon', 'discovered', 'will', 'be'], ['killed', 'not', 'by', 'clones', 'this', 'padawan', 'by', 'a', 'lightsaber', 'he', 'was'], ['good', 'for', 'the', 'clones', 'to', 'discover', 'the', 'recalibration', 'a', 'long', 'time', 'it', 'will', 'take', 'to', 'change', 'it', 'back', 'longer', 'still', 'hurry'], ['if', 'into', 'the', 'security', 'recordings', 'you', 'go', 'only', 'pain', 'will', 'you', 'find'], ['destroy', 'the', 'sith', 'we', 'must'], ['to', 'fight', 'this', 'lord', 'sidious', 'strong', 'enough', 'you', 'are', 'not'], ['twisted', 'by', 'the', 'dark', 'side', 'young', 'skywalker', 'has', 'become', 'the', 'boy', 'you', 'trained', 'gone', 'he', 'is', 'consumed', 'by', 'darth', 'vader'], ['to', 'question', 'no', 'time', 'there', 'is'], ['use', 'your', 'feelings', 'obiwan', 'and', 'find', 'him', 'you', 'will', 'visit', 'the', 'new', 'emperor', 'my', 'task', 'is', 'may', 'the', 'force', 'be', 'with', 'you'], ['i', 'hear', 'a', 'new', 'apprentice', 'you', 'have', 'emperor', 'or', 'should', 'i', 'call', 'you', 'darth', 'sidious'], ['surprised'], ['not', 'if', 'anything', 'i', 'have', 'to', 'say', 'about', 'it', 'lord', 'sidious'], ['continuing', 'at', 'an', 'end', 'your', 'rule', 'is', 'and', 'not', 'short', 'enough', 'it', 'was', 'i', 'must', 'say'], ['continuing', 'if', 'so', 'powerful', 'you', 'are', 'why', 'leave'], ['faith', 'in', 'your', 'new', 'apprentice', 'misplaced', 'may', 'be', 'as', 'is', 'your', 'faith', 'in', 'the', 'dark', 'side', 'of', 'the', 'force'], ['destroy', 'you', 'i', 'will', 'just', 'as', 'master', 'kenobi', 'your', 'apprentice', 'will', 'destroy'], ['hurry', 'careful', 'timing', 'we', 'will', 'need'], ['into', 'exile', 'i', 'must', 'go', 'failed', 'i', 'have'], ['failed', 'to', 'stop', 'the', 'sith', 'lord', 'i', 'have', 'still', 'much', 'to', 'learn', 'there', 'is'], ['eternal', 'consciousness'], ['to', 'become', 'one', 'with', 'the', 'force', 'and', 'influence', 'still', 'have', 'a', 'power', 'greater', 'than', 'all', 'it', 'is'], ['a', 'great', 'jedi', 'master', 'you', 'have', 'become', 'quigon', 'jinn', 'your', 'apprentice', 'i', 'gratefully', 'become'], ['save', 'them', 'we', 'must', 'they', 'are', 'our', 'last', 'hope'], ['pregnant', 'she', 'must', 'still', 'appear', 'hidden', 'safe', 'the', 'children', 'must', 'be', 'kept'], ['split', 'up', 'they', 'should', 'be'], ['to', 'tatooine', 'to', 'his', 'family', 'send', 'him'], ['strong', 'the', 'force', 'runs', 'in', 'the', 'skywalker', 'line', 'hope', 'we', 'can', 'done', 'it', 'is', 'until', 'the', 'time', 'is', 'right', 'disappear', 'we', 'will'], ['continuing', 'master', 'kenobi', 'wait', 'a', 'moment', 'in', 'your', 'solitude', 'on', 'tatooine', 'training', 'i', 'have', 'for', 'you'], ['an', 'old', 'friend', 'has', 'learned', 'the', 'path', 'to', 'immortality'], ['one', 'who', 'has', 'returned', 'from', 'the', 'netherworld', 'of', 'the', 'force', 'to', 'train', 'me', 'your', 'old', 'master', 'quigon', 'jinn'], ['the', 'secret', 'of', 'the', 'ancient', 'order', 'of', 'the', 'whills', 'he', 'studied', 'how', 'to', 'commune', 'with', 'him', 'i', 'will', 'teach', 'you'], ['how', 'to', 'join', 'the', 'force', 'he', 'will', 'train', 'you', 'your', 'consciousness', 'you', 'will', 'retain', 'when', 'one', 'with', 'the', 'force', 'even', 'your', 'physical', 'self', 'perhaps'], ['hmmm', 'much', 'anger', 'in', 'him', 'like', 'his', 'father'], ['hah', 'he', 'is', 'not', 'ready'], ['ready', 'are', 'you', 'what', 'know', 'you', 'of', 'ready', 'for', 'eight', 'hundred', 'years', 'have', 'i', 'trained', 'jedi', 'my', 'own', 'counsel', 'will', 'i', 'keep', 'on', 'who', 'is', 'to', 'be', 'trained', 'a', 'jedi', 'must', 'have', 'the', 'deepest', 'commitment', 'the', 'most', 'serious', 'mind', 'this', 'one', 'a', 'long', 'time', 'have', 'i', 'watched', 'never', 'his', 'mind', 'on', 'where', 'he', 'was', 'hmm', 'what', 'he', 'was', 'doing', 'hmph', 'adventure', 'heh', 'excitement', 'heh', 'a', 'jedi', 'craves', 'not', 'these', 'things', 'you', 'are', 'reckless'], ['he', 'is', 'too', 'old', 'yes', 'too', 'old', 'to', 'begin', 'the', 'training'], ['will', 'he', 'finished', 'what', 'he', 'begins'], ['oh', 'you', 'will', 'be', 'you', 'will', 'be'], ['run', 'yes', 'a', 'jedis', 'strength', 'flows', 'from', 'the', 'force', 'but', 'beware', 'of', 'the', 'dark', 'side', 'anger', 'fear', 'aggression', 'the', 'dark', 'side', 'of', 'the', 'force', 'are', 'they', 'easily', 'they', 'flow', 'quick', 'to', 'join', 'you', 'in', 'a', 'fight', 'if', 'once', 'you', 'start', 'down', 'the', 'dark', 'path', 'forever', 'will', 'it', 'dominate', 'your', 'destiny', 'consume', 'you', 'it', 'will', 'as', 'it', 'did', 'obiwans', 'apprentice'], ['no', 'no', 'no', 'quicker', 'easier', 'more', 'seductive'], ['you', 'will', 'know', 'when', 'you', 'are', 'calm', 'at', 'peace', 'passive', 'a', 'jedi', 'uses', 'the', 'force', 'for', 'knowledge', 'and', 'defense', 'never', 'for', 'attack'], ['no', 'no', 'there', 'is', 'no', 'why', 'nothing', 'more', 'will', 'i', 'teach', 'you', 'today', 'clear', 'your', 'mind', 'of', 'questions', 'mmm', 'mmmmmm'], ['that', 'place', 'is', 'strong', 'with', 'the', 'dark', 'side', 'of', 'the', 'force', 'a', 'domain', 'of', 'evil', 'it', 'is', 'in', 'you', 'must', 'go'], ['only', 'what', 'you', 'take', 'with', 'you'], ['your', 'weapons', 'you', 'will', 'not', 'need', 'them'], ['use', 'the', 'force', 'yes'], ['now', 'the', 'stone', 'feel', 'it'], ['concentrate'], ['so', 'certain', 'are', 'you', 'always', 'with', 'you', 'it', 'cannot', 'be', 'done', 'hear', 'you', 'nothing', 'that', 'i', 'say'], ['no', 'no', 'different', 'only', 'different', 'in', 'your', 'mind', 'you', 'must', 'unlearn', 'what', 'you', 'have', 'learned'], ['no', 'try', 'not', 'do', 'or', 'do', 'not', 'there', 'is', 'no', 'try'], ['size', 'matters', 'not', 'look', 'at', 'me', 'judge', 'me', 'by', 'my', 'size', 'do', 'you', 'hm', 'mmmm'], ['and', 'well', 'you', 'should', 'not', 'for', 'my', 'ally', 'in', 'the', 'force', 'and', 'a', 'powerful', 'ally', 'it', 'is', 'life', 'creates', 'it', 'makes', 'it', 'grow', 'its', 'energy', 'surrounds', 'us', 'and', 'binds', 'us', 'luminous', 'beings', 'are', 'we', 'not', 'this', 'crude', 'matter', 'you', 'must', 'feel', 'the', 'force', 'around', 'you', 'here', 'between', 'you', 'me', 'the', 'tree', 'the', 'rock', 'everywhere', 'yes', 'even', 'between', 'this', 'land', 'and', 'that', 'ship'], ['that', 'is', 'why', 'you', 'fail'], ['concentrate', 'feel', 'the', 'force', 'flow', 'yes', 'good', 'calm', 'yes', 'through', 'the', 'force', 'things', 'you', 'will', 'see', 'other', 'places', 'the', 'future', 'the', 'past', 'old', 'friends', 'long', 'gone'], ['hmm', 'control', 'control', 'you', 'must', 'learn', 'control'], ['mmm', 'friends', 'you', 'have', 'there'], ['it', 'is', 'the', 'future', 'you', 'see'], ['difficult', 'to', 'see', 'always', 'in', 'motion', 'is', 'the', 'future'], ['decide', 'you', 'must', 'how', 'to', 'serve', 'them', 'best', 'if', 'you', 'leave', 'now', 'help', 'them', 'you', 'could', 'but', 'you', 'would', 'destroy', 'all', 'for', 'which', 'they', 'have', 'fought', 'and', 'suffered'], ['luke', 'you', 'must', 'complete', 'the', 'training'], ['you', 'must', 'not', 'go'], ['yes', 'yes', 'to', 'obiwan', 'you', 'listen', 'the', 'cave', 'remember', 'your', 'failure', 'at', 'the', 'cave'], ['stopped', 'they', 'must', 'be', 'on', 'this', 'depends', 'only', 'a', 'fully', 'trained', 'jedi', 'knight', 'with', 'the', 'force', 'as', 'his', 'ally', 'will', 'conquer', 'vader', 'and', 'his', 'emperor', 'if', 'you', 'end', 'your', 'training', 'now', 'if', 'you', 'choose', 'the', 'quick', 'and', 'easy', 'path', 'as', 'vader', 'did', 'you', 'will', 'become', 'an', 'agent', 'of', 'evil'], ['if', 'you', 'honor', 'what', 'they', 'fight', 'for', 'yes'], ['strong', 'is', 'vader', 'mind', 'what', 'you', 'have', 'learned', 'save', 'you', 'it', 'can'], ['told', 'you', 'i', 'did', 'reckless', 'is', 'he', 'now', 'matters', 'are', 'worse'], ['no', 'there', 'is', 'another'], ['hmm', 'that', 'face', 'you', 'make', 'look', 'i', 'so', 'old', 'to', 'young', 'eyes'], ['i', 'do', 'yes', 'i', 'do', 'sick', 'have', 'i', 'become', 'old', 'and', 'weak', 'when', 'nine', 'hundred', 'years', 'old', 'you', 'reach', 'look', 'as', 'good', 'you', 'will', 'not', 'hmm'], ['soon', 'will', 'i', 'rest', 'yes', 'forever', 'sleep', 'earned', 'it', 'i', 'have'], ['strong', 'am', 'i', 'with', 'the', 'force', 'but', 'not', 'that', 'strong', 'twilight', 'is', 'upon', 'me', 'and', 'soon', 'night', 'must', 'fall', 'that', 'is', 'the', 'way', 'of', 'things', 'the', 'way', 'of', 'the', 'force'], ['no', 'more', 'training', 'do', 'you', 'require', 'already', 'know', 'you', 'that', 'which', 'you', 'need'], ['ohhh', 'not', 'yet', 'one', 'thing', 'remains', 'vader', 'you', 'must', 'confront', 'vader', 'then', 'only', 'then', 'a', 'jedi', 'will', 'you', 'be', 'and', 'confront', 'him', 'you', 'will'], ['mmm', 'rest', 'i', 'need', 'yes', 'rest'], ['your', 'father', 'he', 'is'], ['told', 'you', 'did', 'he'], ['unexpected', 'this', 'is', 'and', 'unfortunate'], ['no', 'unfortunate', 'that', 'you', 'rushed', 'to', 'face', 'him', 'that', 'incomplete', 'was', 'your', 'training', 'not', 'ready', 'for', 'the', 'burden', 'were', 'you'], ['remember', 'a', 'jedis', 'strength', 'flows', 'from', 'the', 'force', 'but', 'beware', 'anger', 'fear', 'aggression', 'the', 'dark', 'side', 'are', 'they', 'once', 'you', 'start', 'down', 'the', 'dark', 'path', 'forever', 'will', 'it', 'dominate', 'your', 'destiny'], ['luke', 'luke', 'do', 'not', 'do', 'not', 'underestimate', 'the', 'powers', 'of', 'the', 'emperor', 'or', 'suffer', 'your', 'fathers', 'fate', 'you', 'will', 'luke', 'when', 'gone', 'am', 'i', 'the', 'last', 'of', 'the', 'jedi', 'will', 'you', 'be', 'luke', 'the', 'force', 'runs', 'strong', 'in', 'your', 'family', 'pass', 'on', 'what', 'you', 'have', 'learned', 'luke', 'there', 'is', 'another', 'sky', 'sky', 'walker']]\n",
            "['you', 'must', 'confront', 'vader', 'then', 'i', 'have', 'you', 'are', 'that']\n"
          ],
          "name": "stdout"
        }
      ]
    },
    {
      "cell_type": "code",
      "metadata": {
        "colab": {
          "base_uri": "https://localhost:8080/"
        },
        "id": "DN0qtBrisK6M",
        "outputId": "31be7c41-adb0-4cde-8d0c-ff1499f9994b"
      },
      "source": [
        "print('BLEU score -> {}'.format(sentence_bleu(ref, gen[0].split())))"
      ],
      "execution_count": 29,
      "outputs": [
        {
          "output_type": "stream",
          "text": [
            "BLEU score -> 0.5773502691896257\n"
          ],
          "name": "stdout"
        }
      ]
    },
    {
      "cell_type": "code",
      "metadata": {
        "id": "I3eNC_H_6OLD"
      },
      "source": [
        ""
      ],
      "execution_count": null,
      "outputs": []
    },
    {
      "cell_type": "code",
      "metadata": {
        "id": "4ZvxzouGFyVP"
      },
      "source": [
        ""
      ],
      "execution_count": null,
      "outputs": []
    }
  ]
}